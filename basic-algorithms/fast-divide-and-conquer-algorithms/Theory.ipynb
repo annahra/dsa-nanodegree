{
 "cells": [
  {
   "cell_type": "markdown",
   "id": "fitted-render",
   "metadata": {},
   "source": [
    "Summary\n",
    "\n",
    "Divide and Conquer approach is suitable to solve a big (scale) problem by breaking it into smaller sub-problems, where each sub-problem looks exactly similar to the original problem. In general, there are three phases:\n",
    "\n",
    "    Divide - Break the given problem into smaller sub-problems\n",
    "    Conquer - Solve each sub-problem using recursion. The smallest sub-problem (base case) would have a simple straightforward solution.\n",
    "    Combine - This phase will automatically execute as a part of the recursion call stack, which combines the solution of smaller sub-problems to generate the final solution.\n",
    "\n",
    "Quicksort and Mergesort are a few examples that follow the Divide and Conquer approach. There are a few points to note while deciding if one should go for faster Divide and Conquer approach:\n",
    "\n",
    "    The problem should be on a bigger scale.\n",
    "    The sub-problem must look precisely similar to the original problem in hand.\n",
    "    Use recursion to solve the problem. It means that the solution will be built for the smallest sub-problem (base case) first.\n",
    "    There is a trade-off between memory usage and speed of execution. Recursion comes with a price of extra memory usage for executing the call stack. But, if you use multi-threading, you can compute the solution even much faster.\n",
    "    In case if many sub-problems look precisely the same, then we don't want to re-execute the same again and again. In such cases, you can consider storing the results of the execution, and thus reuse them whenever required. This strategy is called Memoization (in Dynamic Programming approach).\n",
    "\n"
   ]
  },
  {
   "cell_type": "code",
   "execution_count": null,
   "id": "rolled-fields",
   "metadata": {},
   "outputs": [],
   "source": []
  }
 ],
 "metadata": {
  "kernelspec": {
   "display_name": "Python 3",
   "language": "python",
   "name": "python3"
  },
  "language_info": {
   "codemirror_mode": {
    "name": "ipython",
    "version": 3
   },
   "file_extension": ".py",
   "mimetype": "text/x-python",
   "name": "python",
   "nbconvert_exporter": "python",
   "pygments_lexer": "ipython3",
   "version": "3.8.5"
  }
 },
 "nbformat": 4,
 "nbformat_minor": 5
}
