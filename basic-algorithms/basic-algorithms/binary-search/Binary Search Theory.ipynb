{
 "cells": [
  {
   "cell_type": "markdown",
   "id": "beautiful-desktop",
   "metadata": {},
   "source": [
    "In summary:\n",
    "\n",
    "* Binary search is a search algorithm where we find the position of a target value by comparing the middle value with this target value.\n",
    "* If the middle value is equal to the target value, then we have our solution (we have found the position of our target value).\n",
    "* If the target value comes before the middle value, we look for the target value in the left half.\n",
    "    Otherwise, we look for the target value in the right half.\n",
    "    We repeat this process as many times as needed, until we find the target value.\n",
    "\n"
   ]
  },
  {
   "cell_type": "code",
   "execution_count": null,
   "id": "imported-behavior",
   "metadata": {},
   "outputs": [],
   "source": []
  }
 ],
 "metadata": {
  "kernelspec": {
   "display_name": "Python 3",
   "language": "python",
   "name": "python3"
  },
  "language_info": {
   "codemirror_mode": {
    "name": "ipython",
    "version": 3
   },
   "file_extension": ".py",
   "mimetype": "text/x-python",
   "name": "python",
   "nbconvert_exporter": "python",
   "pygments_lexer": "ipython3",
   "version": "3.8.5"
  }
 },
 "nbformat": 4,
 "nbformat_minor": 5
}
