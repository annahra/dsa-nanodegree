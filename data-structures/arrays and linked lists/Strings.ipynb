{
 "cells": [
  {
   "cell_type": "markdown",
   "id": "french-laundry",
   "metadata": {},
   "source": [
    "# Strings Exercises"
   ]
  },
  {
   "cell_type": "markdown",
   "id": "modular-preliminary",
   "metadata": {},
   "source": [
    "### Introduction \n",
    "Python Strings are Arrays. They are arrays of bytes representing unicode characters. We can assign a string literal enclosed in a single quotation  (`'Udacity'`) or double quotation  (`\"Udacity\"`) marks to a variable. \n",
    "```\n",
    "str1 = \"Udacity\"\n",
    "```\n",
    "#### Common String Methods\n",
    "Let us see some common methods that we use on string variables. [Refer here for more](https://docs.python.org/3/library/stdtypes.html#string-methods)"
   ]
  },
  {
   "cell_type": "code",
   "execution_count": 1,
   "id": "seventh-permission",
   "metadata": {},
   "outputs": [
    {
     "name": "stdout",
     "output_type": "stream",
     "text": [
      "7\n",
      "udacity\n",
      "UDACITY\n",
      "dacit\n",
      "Udacit\n",
      "dacity\n",
      "dacit\n",
      "Udacity\n",
      "UdacitB\n",
      "['Welcome', ' Constance!']\n",
      "Welcome, Constance! Udacity\n",
      "Welcome, Constance! You have scored a perfect 100\n",
      "[' ', '!', ',', 'C', 'W', 'a', 'c', 'c', 'e', 'e', 'e', 'l', 'm', 'n', 'n', 'o', 'o', 's', 't']\n"
     ]
    }
   ],
   "source": [
    "str1 = \"Udacity\"\n",
    "\n",
    "\n",
    "# LENGTH\n",
    "print(len(str1))\t\t# 7\n",
    "\n",
    "\n",
    "# CHANGE CASE\n",
    "# The `lower()` and `upper` method returns the string in lower case and upper case respectively\n",
    "print(str1.lower())\t\t# udacity\n",
    "print(str1.upper())\t\t# UDACITY\n",
    "\n",
    "\n",
    "# SLICING\n",
    "# string_var[lower_index : upper_index]\n",
    "# Note that the upper_index is not inclusive.\n",
    "print(str1[1:6]) \t\t# dacit\n",
    "print(str1[:6])\t\t\t# Udacit. A blank index means \"all from that end\"\n",
    "print(str1[1:])\t\t\t# dacity\n",
    "\n",
    "# A negative index means start slicing from the end-of-string\n",
    "print(str1[-6:-1])\t\t# dacit\n",
    "\n",
    "\n",
    "# STRIP\n",
    "# `strip()` removes any whitespace from the beginning or the end\n",
    "str2 = \"    Udacity    \"\n",
    "print(str2.strip())\t\t# Udacity\n",
    "\n",
    "\n",
    "# REPLACE/SUBSTITUTE A CHARACTER IN THE STRING\n",
    "# The replace() method replaces all occurances a character in a string with another character. The input arguments are case-sensitive\n",
    "print(str1.replace('y', \"B\")) #UdacitB\n",
    "\n",
    "\n",
    "# SPLIT INTO SUB-STRINGS\n",
    "# The split() method splits a string into substrings based on the separator that we specify as argument\n",
    "str3 = \"Welcome, Constance!\"\n",
    "print(str3.split(\",\")) # ['Welcome', ' Constance!']\n",
    "\n",
    "\n",
    "# CONCATENATION\n",
    "print(str3 + \" \" + str1) # Welcome, Constance! Udacity\n",
    "marks = 100\n",
    "# print(str3 + \" You have scored a perfect \" + marks) # TypeError: can only concatenate str (not \"int\") to str\n",
    "print(str3 + \" You have scored a perfect \" + format(marks)) # format() method converts the argument as a formatted string\n",
    "\n",
    "\n",
    "# SORT A STRING\n",
    "# We can use sorted() method that sort any instance of *iterable*. The characters are compared based on their ascii value\n",
    "print(sorted(str3)) # [' ', '!', ',', 'C', 'W', 'a', 'c', 'c', 'e', 'e', 'e', 'l', 'm', 'n', 'n', 'o', 'o', 's', 't']\n"
   ]
  },
  {
   "cell_type": "markdown",
   "id": "round-effort",
   "metadata": {},
   "source": [
    "Let us do some exercises to practice our work with string manipulation. \n",
    "\n",
    "#### Exercise 1. Reverse Strings\n",
    "In this first exercise, the goal is to write a function that takes a string as input and then returns the reversed string.\n",
    "\n",
    "For example, if the input is the string `\"water\"`, then the output should be `\"retaw\"`.\n",
    "\n",
    "While you're working on the function and trying to figure out how to manipulate the string, it may help to use the `print` statement so you can see the effects of whatever you're trying.\n",
    "\n",
    "Note - You can use built-in method `len()` on the string. "
   ]
  },
  {
   "cell_type": "code",
   "execution_count": 37,
   "id": "female-impossible",
   "metadata": {},
   "outputs": [],
   "source": [
    "# Code\n",
    "\n",
    "def string_reverser(our_string):\n",
    "\n",
    "    \"\"\"\n",
    "    Reverse the input string\n",
    "\n",
    "    Args:\n",
    "       our_string(string): String to be reversed\n",
    "    Returns:\n",
    "       string: The reversed string\n",
    "    \"\"\"\n",
    "    \n",
    "    # TODO: Write your solution here\n",
    "    str = list(our_string)\n",
    "    strLength = len(str)\n",
    "    for i in range(int(strLength/2)):\n",
    "        temp = str[i]\n",
    "        str[i] = str[strLength - i - 1]\n",
    "        str[strLength - i - 1] = temp\n",
    "    return \"\".join(str)\n",
    "    \n",
    "    pass"
   ]
  },
  {
   "cell_type": "code",
   "execution_count": 38,
   "id": "excess-ontario",
   "metadata": {},
   "outputs": [
    {
     "name": "stdout",
     "output_type": "stream",
     "text": [
      "Pass\n",
      "Pass\n",
      "Pass\n"
     ]
    }
   ],
   "source": [
    "# Test Cases\n",
    "\n",
    "print (\"Pass\" if ('retaw' == string_reverser('water')) else \"Fail\")\n",
    "print (\"Pass\" if ('!noitalupinam gnirts gnicitcarP' == string_reverser('Practicing string manipulation!')) else \"Fail\")\n",
    "print (\"Pass\" if ('3432 :si edoc esuoh ehT' == string_reverser('The house code is: 2343')) else \"Fail\")"
   ]
  },
  {
   "cell_type": "markdown",
   "id": "tamil-result",
   "metadata": {},
   "source": [
    "<span class=\"graffiti-highlight graffiti-id_5y1c1sk-id_8u3k1ve\"><i></i><button>Hide Solution</button></span>"
   ]
  },
  {
   "cell_type": "code",
   "execution_count": 4,
   "id": "passing-combining",
   "metadata": {},
   "outputs": [
    {
     "name": "stdout",
     "output_type": "stream",
     "text": [
      "Pass\n",
      "Pass\n",
      "Pass\n"
     ]
    }
   ],
   "source": [
    "# Solution\n",
    "\n",
    "def string_reverser(our_string):\n",
    "\n",
    "    \"\"\"\n",
    "    Reverse the input string\n",
    "\n",
    "    Args:\n",
    "       our_string(string): String to be reversed\n",
    "    Returns:\n",
    "       string: The reversed string\n",
    "    \"\"\"\n",
    "\n",
    "    # New empty string for us to build on\n",
    "    new_string = \"\"\n",
    "\n",
    "    # Iterate over old string\n",
    "    for i in range(len(our_string)):\n",
    "        # Grab the charecter from the back of the string and add them to the new string\n",
    "        new_string += our_string[(len(our_string)-1)-i]\n",
    "\n",
    "    # Return our solution\n",
    "    return new_string\n",
    "\n",
    "\n",
    "# Test Cases\n",
    "\n",
    "print (\"Pass\" if ('retaw' == string_reverser('water')) else \"Fail\")\n",
    "print (\"Pass\" if ('!noitalupinam gnirts gnicitcarP' == string_reverser('Practicing string manipulation!')) else \"Fail\")\n",
    "print (\"Pass\" if ('3432 :si edoc esuoh ehT' == string_reverser('The house code is: 2343')) else \"Fail\")\n"
   ]
  },
  {
   "cell_type": "markdown",
   "id": "collected-commodity",
   "metadata": {},
   "source": [
    "#### Exercise 2.  Anagrams\n",
    "The goal of this exercise is to write some code to determine if two strings are anagrams of each other.\n",
    "\n",
    "An anagram is a word (or phrase) that is formed by rearranging the letters of another word (or phrase).\n",
    "\n",
    "For example:\n",
    "- \"rat\" is an anagram of \"art\"\n",
    "- \"alert\" is an anagram of \"alter\"\n",
    "- \"Slot machines\" is an anagram of \"Cash lost in me\"\n",
    "\n",
    "Your function should take two strings as input and return `True` if the two words are anagrams and `False` if they are not.\n",
    "\n",
    "You can assume the following about the input strings:\n",
    "- No punctuation\n",
    "- No numbers\n",
    "- No special characters\n",
    "\n",
    "Note - You can use built-in methods `len()`, `lower()` and `sort()` on strings. "
   ]
  },
  {
   "cell_type": "code",
   "execution_count": 55,
   "id": "warming-ecology",
   "metadata": {},
   "outputs": [],
   "source": [
    "# Code\n",
    "\n",
    "def anagram_checker(str1, str2):\n",
    "\n",
    "    \"\"\"\n",
    "    Check if the input strings are anagrams of each other\n",
    "\n",
    "    Args:\n",
    "       str1(string),str2(string): Strings to be checked\n",
    "    Returns:\n",
    "       bool: Indicates whether strings are anagrams\n",
    "    \"\"\"\n",
    "    \n",
    "    # TODO: Write your solution here\n",
    "    return sorted(str1.lower().replace(\" \",\"\")) == sorted(str2.lower().replace(\" \",\"\"))\n",
    "    \n",
    "    pass"
   ]
  },
  {
   "cell_type": "code",
   "execution_count": 56,
   "id": "exact-bicycle",
   "metadata": {},
   "outputs": [
    {
     "name": "stdout",
     "output_type": "stream",
     "text": [
      "Pass\n",
      "Pass\n",
      "Pass\n",
      "Pass\n",
      "Pass\n"
     ]
    }
   ],
   "source": [
    "# Test Cases\n",
    "\n",
    "print (\"Pass\" if not (anagram_checker('water','waiter')) else \"Fail\")\n",
    "print (\"Pass\" if anagram_checker('Dormitory','Dirty room') else \"Fail\")\n",
    "print (\"Pass\" if anagram_checker('Slot machines', 'Cash lost in me') else \"Fail\")\n",
    "print (\"Pass\" if not (anagram_checker('A gentleman','Elegant men')) else \"Fail\")\n",
    "print (\"Pass\" if anagram_checker('Time and tide wait for no man','Notified madman into water') else \"Fail\")"
   ]
  },
  {
   "cell_type": "markdown",
   "id": "treated-angle",
   "metadata": {},
   "source": [
    "<span class=\"graffiti-highlight graffiti-id_hnedbqz-id_0ifjb4r\"><i></i><button>Hide Solution</button></span>"
   ]
  },
  {
   "cell_type": "code",
   "execution_count": 7,
   "id": "informed-assistant",
   "metadata": {},
   "outputs": [
    {
     "name": "stdout",
     "output_type": "stream",
     "text": [
      "Pass\n",
      "Pass\n",
      "Pass\n",
      "Pass\n",
      "Pass\n",
      "Pass\n"
     ]
    }
   ],
   "source": [
    "# Solution\n",
    "\n",
    "def anagram_checker(str1, str2):\n",
    "\n",
    "    \"\"\"\n",
    "    Check if the input strings are anagrams\n",
    "\n",
    "    Args:\n",
    "       str1(string),str2(string): Strings to be checked if they are anagrams\n",
    "    Returns:\n",
    "       bool: If strings are anagrams or not\n",
    "    \"\"\"\n",
    "\n",
    "    # Clean strings and convert to lower case\n",
    "    str1 = str1.replace(\" \", \"\").lower()\n",
    "    str2 = str2.replace(\" \", \"\").lower()\n",
    "    \n",
    "    # Compare the length of both strings\n",
    "    if len(str1) == len(str2):\n",
    "        # Sort each string and compare\n",
    "        if sorted(str1) == sorted(str2):\n",
    "            return True\n",
    "\n",
    "    return False\n",
    "\n",
    "\n",
    "print (\"Pass\" if not (anagram_checker('water','waiter')) else \"Fail\")\n",
    "print (\"Pass\" if anagram_checker('Dormitory','Dirty room') else \"Fail\")\n",
    "print (\"Pass\" if anagram_checker('Slot machines', 'Cash lost in me') else \"Fail\")\n",
    "print (\"Pass\" if not (anagram_checker('A gentleman','Elegant men')) else \"Fail\")\n",
    "print (\"Pass\" if anagram_checker('Time and tide wait for no man','Notified madman into water') else \"Fail\")\n",
    "print (\"Pass\" if (anagram_checker('rat','art')) else \"Fail\")"
   ]
  },
  {
   "cell_type": "markdown",
   "id": "atomic-potter",
   "metadata": {},
   "source": [
    "#### Exercise 3.  Reverse the words in sentence\n",
    "Given a sentence, reverse each word in the sentence while keeping the order the same!"
   ]
  },
  {
   "cell_type": "code",
   "execution_count": 81,
   "id": "joined-pricing",
   "metadata": {},
   "outputs": [],
   "source": [
    "# Code \n",
    "\n",
    "def word_flipper(our_string):\n",
    "\n",
    "    \"\"\"\n",
    "    Flip the individual words in a sentence\n",
    "\n",
    "    Args:\n",
    "       our_string(string): String with words to flip\n",
    "    Returns:\n",
    "       string: String with words flipped\n",
    "    \"\"\"\n",
    "    \n",
    "    # TODO: Write your solution here\n",
    "    newArr = []\n",
    "    for word in our_string.split(\" \"):\n",
    "        newArr.append(string_reverser(word))\n",
    "    return \" \".join(newArr)\n",
    "    \n",
    "    pass"
   ]
  },
  {
   "cell_type": "code",
   "execution_count": 82,
   "id": "special-vegetarian",
   "metadata": {},
   "outputs": [
    {
     "name": "stdout",
     "output_type": "stream",
     "text": [
      "Pass\n",
      "Pass\n",
      "Pass\n"
     ]
    }
   ],
   "source": [
    "# Test Cases\n",
    "\n",
    "print (\"Pass\" if ('retaw' == word_flipper('water')) else \"Fail\")\n",
    "print (\"Pass\" if ('sihT si na elpmaxe' == word_flipper('This is an example')) else \"Fail\")\n",
    "print (\"Pass\" if ('sihT si eno llams pets rof ...' == word_flipper('This is one small step for ...')) else \"Fail\")"
   ]
  },
  {
   "cell_type": "markdown",
   "id": "official-fairy",
   "metadata": {},
   "source": [
    "<span class=\"graffiti-highlight graffiti-id_ttzcm4k-id_m6frlmt\"><i></i><button>Hide Solution</button></span>"
   ]
  },
  {
   "cell_type": "code",
   "execution_count": 84,
   "id": "mexican-blocking",
   "metadata": {},
   "outputs": [
    {
     "name": "stdout",
     "output_type": "stream",
     "text": [
      "Pass\n",
      "Pass\n",
      "Pass\n"
     ]
    }
   ],
   "source": [
    "# Solution\n",
    "\n",
    "def word_flipper(our_string):\n",
    "\n",
    "    \"\"\"\n",
    "    Flip the individual words in a sentence\n",
    "\n",
    "    Args:\n",
    "       our_string(string): Strings to have individual words flip\n",
    "    Returns:\n",
    "       string: String with words flipped\n",
    "    \"\"\"\n",
    "\n",
    "    word_list = our_string.split(\" \")\n",
    "\n",
    "    for idx in range(len(word_list)):\n",
    "        word_list[idx] = word_list[idx][::-1]\n",
    "\n",
    "    return \" \".join(word_list)\n",
    "\n",
    "print (\"Pass\" if ('retaw' == word_flipper('water')) else \"Fail\")\n",
    "print (\"Pass\" if ('sihT si na elpmaxe' == word_flipper('This is an example')) else \"Fail\")\n",
    "print (\"Pass\" if ('sihT si eno llams pets rof ...' == word_flipper('This is one small step for ...')) else \"Fail\")\n"
   ]
  },
  {
   "cell_type": "markdown",
   "id": "likely-pearl",
   "metadata": {},
   "source": [
    "#### Exercise 4.  Hamming Distance\n",
    "In information theory, the Hamming distance between two strings of equal length is the number of positions at which the corresponding symbols are different. Calculate the Hamming distace for the following test cases."
   ]
  },
  {
   "cell_type": "code",
   "execution_count": 85,
   "id": "liked-fleece",
   "metadata": {},
   "outputs": [],
   "source": [
    "# Code\n",
    "\n",
    "def hamming_distance(str1, str2):\n",
    "\n",
    "    \"\"\"\n",
    "    Calculate the hamming distance of the two strings\n",
    "\n",
    "    Args:\n",
    "       str1(string),str2(string): Strings to be used for finding the hamming distance\n",
    "    Returns:\n",
    "       int: Hamming Distance\n",
    "    \"\"\"\n",
    "    hamDistance = 0\n",
    "    \n",
    "    # TODO: Write your solution here\n",
    "    if (len(str1) != len(str2)):\n",
    "        return None\n",
    "    \n",
    "    for idx in range(len(str1)):\n",
    "        if (str1[idx] != str2[idx]):\n",
    "            hamDistance += 1\n",
    "    return hamDistance\n",
    "    \n",
    "    pass"
   ]
  },
  {
   "cell_type": "code",
   "execution_count": 86,
   "id": "automated-ukraine",
   "metadata": {},
   "outputs": [
    {
     "name": "stdout",
     "output_type": "stream",
     "text": [
      "Pass\n",
      "Pass\n",
      "Pass\n",
      "Pass\n",
      "Pass\n"
     ]
    }
   ],
   "source": [
    "# Test Cases\n",
    "\n",
    "print (\"Pass\" if (10 == hamming_distance('ACTTGACCGGG','GATCCGGTACA')) else \"Fail\")\n",
    "print (\"Pass\" if  (1 == hamming_distance('shove','stove')) else \"Fail\")\n",
    "print (\"Pass\" if  (None == hamming_distance('Slot machines', 'Cash lost in me')) else \"Fail\")\n",
    "print (\"Pass\" if  (9 == hamming_distance('A gentleman','Elegant men')) else \"Fail\")\n",
    "print (\"Pass\" if  (2 == hamming_distance('0101010100011101','0101010100010001')) else \"Fail\")"
   ]
  },
  {
   "cell_type": "markdown",
   "id": "professional-revision",
   "metadata": {},
   "source": [
    "<span class=\"graffiti-highlight graffiti-id_kddwu3s-id_u1nzuf0\"><i></i><button>Hide Solution</button></span>"
   ]
  },
  {
   "cell_type": "code",
   "execution_count": 12,
   "id": "cosmetic-hypothetical",
   "metadata": {},
   "outputs": [
    {
     "name": "stdout",
     "output_type": "stream",
     "text": [
      "Pass\n",
      "Pass\n",
      "Pass\n",
      "Pass\n",
      "Pass\n"
     ]
    }
   ],
   "source": [
    "# Solution\n",
    "\n",
    "def hamming_distance(str1, str2):\n",
    "\n",
    "    \"\"\"\n",
    "    Calculate the hamming distance of the two strings\n",
    "\n",
    "    Args:\n",
    "       str1(string),str2(string): Strings to be used for finding the hamming distance\n",
    "    Returns:\n",
    "       int: Hamming Distance\n",
    "    \"\"\"\n",
    "\n",
    "    if len(str1) == len(str2):\n",
    "        count = 0\n",
    "\n",
    "        for char in range(len(str1)):\n",
    "            if str1[char] != str2[char]:\n",
    "                count+=1\n",
    "\n",
    "        return count\n",
    "\n",
    "    return None\n",
    "\n",
    "\n",
    "\n",
    "print (\"Pass\" if (10 == hamming_distance('ACTTGACCGGG','GATCCGGTACA')) else \"Fail\")\n",
    "print (\"Pass\" if  (1 == hamming_distance('shove','stove')) else \"Fail\")\n",
    "print (\"Pass\" if  (None == hamming_distance('Slot machines', 'Cash lost in me')) else \"Fail\")\n",
    "print (\"Pass\" if  (9 == hamming_distance('A gentleman','Elegant men')) else \"Fail\")\n",
    "print (\"Pass\" if  (2 == hamming_distance('0101010100011101','0101010100010001')) else \"Fail\")\n"
   ]
  },
  {
   "cell_type": "code",
   "execution_count": null,
   "id": "accessory-dressing",
   "metadata": {},
   "outputs": [],
   "source": []
  },
  {
   "cell_type": "code",
   "execution_count": null,
   "id": "juvenile-checklist",
   "metadata": {},
   "outputs": [],
   "source": []
  },
  {
   "cell_type": "code",
   "execution_count": null,
   "id": "extra-surface",
   "metadata": {},
   "outputs": [],
   "source": []
  },
  {
   "cell_type": "code",
   "execution_count": null,
   "id": "brief-impression",
   "metadata": {},
   "outputs": [],
   "source": []
  }
 ],
 "metadata": {
  "kernelspec": {
   "display_name": "Python 3",
   "language": "python",
   "name": "python3"
  },
  "language_info": {
   "codemirror_mode": {
    "name": "ipython",
    "version": 3
   },
   "file_extension": ".py",
   "mimetype": "text/x-python",
   "name": "python",
   "nbconvert_exporter": "python",
   "pygments_lexer": "ipython3",
   "version": "3.8.5"
  }
 },
 "nbformat": 4,
 "nbformat_minor": 5
}
