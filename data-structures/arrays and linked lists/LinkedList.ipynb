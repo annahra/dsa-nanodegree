{
 "cells": [
  {
   "cell_type": "markdown",
   "metadata": {},
   "source": [
    "# Implementing and traversing a linked list\n",
    "\n",
    "\n"
   ]
  },
  {
   "cell_type": "markdown",
   "metadata": {},
   "source": [
    "## Exercise 1 - Implementing a simple linked list"
   ]
  },
  {
   "cell_type": "code",
   "execution_count": 1,
   "metadata": {},
   "outputs": [
    {
     "name": "stdout",
     "output_type": "stream",
     "text": [
      "2\n"
     ]
    }
   ],
   "source": [
    "class Node:\n",
    "    def __init__(self, value):\n",
    "        self.value = value\n",
    "        self.next = None\n",
    "\n",
    "head = Node(2)\n",
    "print(head.value)"
   ]
  },
  {
   "cell_type": "markdown",
   "metadata": {},
   "source": [
    "## Exercise 2 -  Traversing the list"
   ]
  },
  {
   "cell_type": "code",
   "execution_count": null,
   "metadata": {},
   "outputs": [],
   "source": [
    "head.next.next = Node(4)\n",
    "head.next.next.next = Node(3)\n",
    "head.next.next.next.next = Node(5)\n",
    "\n",
    "currNode = head\n",
    "while currNode != None:\n",
    "    print(currNode.value)\n",
    "    currNode = currNode.next"
   ]
  },
  {
   "cell_type": "markdown",
   "metadata": {},
   "source": [
    "## Creating a linked list using iteration"
   ]
  },
  {
   "cell_type": "code",
   "execution_count": 2,
   "metadata": {},
   "outputs": [],
   "source": [
    "def create_linked_list_better(input_list):\n",
    "    head = None\n",
    "    # TODO: Implement the more efficient version that keeps track of the tail\n",
    "    tail = None\n",
    "    \n",
    "    for num in input_list:\n",
    "        if head is None:\n",
    "            head = Node(num)\n",
    "            tail = head\n",
    "        else:\n",
    "            tail.next = Node(num)\n",
    "            tail = tail.next\n",
    "    return head"
   ]
  },
  {
   "cell_type": "code",
   "execution_count": 3,
   "metadata": {},
   "outputs": [
    {
     "name": "stdout",
     "output_type": "stream",
     "text": [
      "Pass\n",
      "Pass\n",
      "Pass\n"
     ]
    }
   ],
   "source": [
    "### Test Code\n",
    "def test_function(input_list, head):\n",
    "    try:\n",
    "        if len(input_list) == 0:\n",
    "            if head is not None:\n",
    "                print(\"Fail\")\n",
    "                return\n",
    "        for value in input_list:\n",
    "            if head.value != value:\n",
    "                print(\"Fail\")\n",
    "                return\n",
    "            else:\n",
    "                head = head.next\n",
    "        print(\"Pass\")\n",
    "    except Exception as e:\n",
    "        print(\"Fail: \"  + e)\n",
    "        \n",
    "        \n",
    "\n",
    "input_list = [1, 2, 3, 4, 5, 6]\n",
    "head = create_linked_list_better(input_list)\n",
    "test_function(input_list, head)\n",
    "\n",
    "input_list = [1]\n",
    "head = create_linked_list_better(input_list)\n",
    "test_function(input_list, head)\n",
    "\n",
    "input_list = []\n",
    "head = create_linked_list_better(input_list)\n",
    "test_function(input_list, head)"
   ]
  },
  {
   "cell_type": "markdown",
   "metadata": {},
   "source": [
    "## 1. Singly Linked Lists"
   ]
  },
  {
   "cell_type": "code",
   "execution_count": 4,
   "metadata": {},
   "outputs": [],
   "source": [
    "class LinkedList:\n",
    "    def __init__(self):\n",
    "        self.head = None\n",
    "        \n",
    "    def append(self, value):\n",
    "        if self.head is None:\n",
    "            self.head = Node(value)\n",
    "            return\n",
    "        \n",
    "        # Move to the tail (the last node)\n",
    "        node = self.head\n",
    "        while node.next:\n",
    "            node = node.next\n",
    "        \n",
    "        node.next = Node(value)\n",
    "        return\n",
    "    \n",
    "    def to_list(self):\n",
    "        \n",
    "        # TODO: Write function to turn Linked List into Python List\n",
    "        list = []\n",
    "        if self.head is None:\n",
    "            return list\n",
    "        node = self.head\n",
    "        while node:\n",
    "            list.append(node.value)\n",
    "            node = node.next\n",
    "        return list"
   ]
  },
  {
   "cell_type": "code",
   "execution_count": 5,
   "metadata": {},
   "outputs": [
    {
     "name": "stdout",
     "output_type": "stream",
     "text": [
      "Pass\n"
     ]
    }
   ],
   "source": [
    "# Test your method here\n",
    "linked_list = LinkedList()\n",
    "linked_list.append(3)\n",
    "linked_list.append(2)\n",
    "linked_list.append(-1)\n",
    "linked_list.append(0.2)\n",
    "\n",
    "print (\"Pass\" if  (linked_list.to_list() == [3, 2, -1, 0.2]) else \"Fail\")"
   ]
  },
  {
   "cell_type": "markdown",
   "metadata": {},
   "source": [
    "## 2. Doubly Linked Lists"
   ]
  },
  {
   "cell_type": "code",
   "execution_count": 8,
   "metadata": {},
   "outputs": [],
   "source": [
    "class DoubleNode:\n",
    "    def __init__(self, value):\n",
    "        self.value = value\n",
    "        self.next = None\n",
    "        self.previous = None"
   ]
  },
  {
   "cell_type": "code",
   "execution_count": 9,
   "metadata": {},
   "outputs": [],
   "source": [
    "# Solution\n",
    "\n",
    "class DoublyLinkedList:\n",
    "    def __init__(self):\n",
    "        self.head = None\n",
    "        self.tail = None\n",
    "    \n",
    "    def append(self, value):\n",
    "        if self.head is None:\n",
    "            self.head = DoubleNode(value)\n",
    "            self.tail = self.head\n",
    "            return\n",
    "            \n",
    "        self.tail.next = DoubleNode(value)\n",
    "        self.tail.next.previous = self.tail\n",
    "        self.tail = self.tail.next\n",
    "        return\n"
   ]
  },
  {
   "cell_type": "code",
   "execution_count": 10,
   "metadata": {},
   "outputs": [
    {
     "name": "stdout",
     "output_type": "stream",
     "text": [
      "Going forward through the list, should print 1, -2, 4\n",
      "1\n",
      "-2\n",
      "4\n",
      "\n",
      "Going backward through the list, should print 4, -2, 1\n",
      "4\n",
      "-2\n",
      "1\n"
     ]
    }
   ],
   "source": [
    "# Test your class here\n",
    "\n",
    "linked_list = DoublyLinkedList()\n",
    "linked_list.append(1)\n",
    "linked_list.append(-2)\n",
    "linked_list.append(4)\n",
    "\n",
    "print(\"Going forward through the list, should print 1, -2, 4\")\n",
    "node = linked_list.head\n",
    "while node:\n",
    "    print(node.value)\n",
    "    node = node.next\n",
    "\n",
    "print(\"\\nGoing backward through the list, should print 4, -2, 1\")\n",
    "node = linked_list.tail\n",
    "while node:\n",
    "    print(node.value)\n",
    "    node = node.previous"
   ]
  },
  {
   "cell_type": "markdown",
   "metadata": {},
   "source": [
    "## 3. Circular Linked Lists\n",
    "\n",
    "Circular linked lists occur when the chain of nodes links back to itself somewhere. For example `NodeA -> NodeB -> NodeC -> NodeD -> NodeB` is a circular list because `NodeD` points back to `NodeB` creating a loop `NodeB -> NodeC -> NodeD -> NodeB`. \n",
    "\n",
    "A circular linked list is typically considered pathological because when you try to iterate through it, you'll never find the end. We usually want to detect if there is a loop in our linked lists to avoid these problems. You'll get a chance to implement a solution for detecting loops later in the lesson."
   ]
  },
  {
   "cell_type": "markdown",
   "metadata": {},
   "source": [
    "# Linked List Practice\n",
    "\n",
    "Implement a linked list class. You have to define a few functions that perform the desirbale action. Your `LinkedList` class should be able to:\n",
    "\n",
    "+ Append data to the tail of the list and prepend to the head\n",
    "+ Search the linked list for a value and return the node\n",
    "+ Remove a node\n",
    "+ Pop, which means to return the first node's value and delete the node from the list\n",
    "+ Insert data at some position in the list\n",
    "+ Return the size (length) of the linked list"
   ]
  },
  {
   "cell_type": "code",
   "execution_count": 3,
   "metadata": {},
   "outputs": [],
   "source": [
    "class Node:\n",
    "    def __init__(self, value):\n",
    "        self.value = value\n",
    "        self.next = None\n",
    "        \n",
    "class LinkedList:\n",
    "    def __init__(self):\n",
    "        self.head = None\n",
    "\n",
    "    def to_list(self):\n",
    "        out = []\n",
    "        node = self.head\n",
    "        while node:\n",
    "            out.append(node.value)\n",
    "            node = node.next\n",
    "        return out"
   ]
  },
  {
   "cell_type": "markdown",
   "metadata": {},
   "source": [
    "#### Task 1. Write definition of `prepend()` function and test its functionality"
   ]
  },
  {
   "cell_type": "code",
   "execution_count": 8,
   "metadata": {},
   "outputs": [],
   "source": [
    "# Define a function outside of the class\n",
    "def prepend(self, value):\n",
    "    \"\"\" Prepend a value to the beginning of the list. \"\"\"\n",
    "    # TODO: Write function to prepend here\n",
    "    if self.head is None:\n",
    "        self.head = Node(value)\n",
    "        return\n",
    "\n",
    "    new_head = Node(value)\n",
    "    new_head.next = self.head\n",
    "    self.head = new_head\n",
    "    return\n",
    "\n",
    "\n",
    "# This is the way to add a function to a class after it has been defined\n",
    "LinkedList.prepend = prepend"
   ]
  },
  {
   "cell_type": "code",
   "execution_count": 7,
   "metadata": {},
   "outputs": [],
   "source": [
    "# Test prepend\n",
    "linked_list = LinkedList()\n",
    "linked_list.prepend(1)\n",
    "assert linked_list.to_list() == [1], f\"list contents: {linked_list.to_list()}\""
   ]
  },
  {
   "cell_type": "markdown",
   "metadata": {},
   "source": [
    "#### Task 2. Write definition of `append()` function and test its functionality"
   ]
  },
  {
   "cell_type": "code",
   "execution_count": null,
   "metadata": {},
   "outputs": [],
   "source": [
    "def append(self, value):\n",
    "    \"\"\" Append a node to the end of the list \"\"\"\n",
    "    # Here I'm not keeping track of the tail. It's possible to store the tail\n",
    "    # as well as the head, which makes appending like this an O(1) operation.\n",
    "    # Otherwise, it's an O(N) operation as you have to iterate through the\n",
    "    # entire list to add a new tail.\n",
    "\n",
    "    if self.head is None:\n",
    "        self.head = Node(value)\n",
    "        return\n",
    "\n",
    "    node = self.head\n",
    "    while node.next:\n",
    "        node = node.next\n",
    "\n",
    "    node.next = Node(value)"
   ]
  },
  {
   "cell_type": "markdown",
   "metadata": {},
   "source": [
    "#### Task 3. Write definition of `search()` function and test its functionality"
   ]
  },
  {
   "cell_type": "code",
   "execution_count": null,
   "metadata": {},
   "outputs": [],
   "source": [
    "def search(self, value):\n",
    "    \"\"\" Search the linked list for a node with the requested value and return the node. \"\"\"\n",
    "    if self.head is None:\n",
    "        return None\n",
    "\n",
    "    node = self.head\n",
    "    while node:\n",
    "        if node.value == value:\n",
    "            return node\n",
    "        node = node.next\n",
    "\n",
    "    raise ValueError(\"Value not found in the list.\")"
   ]
  },
  {
   "cell_type": "code",
   "execution_count": null,
   "metadata": {},
   "outputs": [],
   "source": [
    "# Test search\n",
    "linked_list.prepend(2)\n",
    "linked_list.prepend(1)\n",
    "linked_list.append(4)\n",
    "linked_list.append(3)\n",
    "print(linked_list.search(1).value)\n",
    "print(linked_list.search(4).value)\n",
    "assert linked_list.search(1).value == 1, f\"list contents: {linked_list.to_list()}\"\n",
    "assert linked_list.search(4).value == 4, f\"list contents: {linked_list.to_list()}\""
   ]
  },
  {
   "cell_type": "markdown",
   "metadata": {},
   "source": [
    "#### Task 4. Write definition of `remove()` function and test its functionality"
   ]
  },
  {
   "cell_type": "code",
   "execution_count": null,
   "metadata": {},
   "outputs": [],
   "source": [
    "def remove(self, value):\n",
    "    \"\"\" Delete the first node with the desired data. \"\"\"\n",
    "    if self.head is None:\n",
    "        return\n",
    "\n",
    "    if self.head.value == value:\n",
    "        self.head = self.head.next\n",
    "        return\n",
    "\n",
    "    node = self.head\n",
    "    while node.next:\n",
    "        if node.next.value == value:\n",
    "            node.next = node.next.next\n",
    "            return\n",
    "        node = node.next\n",
    "\n",
    "    raise ValueError(\"Value not found in the list.\")"
   ]
  },
  {
   "cell_type": "code",
   "execution_count": null,
   "metadata": {},
   "outputs": [],
   "source": [
    "# Test remove\n",
    "linked_list.remove(1)\n",
    "\n",
    "assert linked_list.to_list() == [2, 1, 3, 4, 3], f\"list contents: {linked_list.to_list()}\"\n",
    "linked_list.remove(3)\n",
    "\n",
    "assert linked_list.to_list() == [2, 1, 4, 3], f\"list contents: {linked_list.to_list()}\"\n",
    "linked_list.remove(3)\n",
    "\n",
    "assert linked_list.to_list() == [2, 1, 4], f\"list contents: {linked_list.to_list()}\""
   ]
  },
  {
   "cell_type": "markdown",
   "metadata": {},
   "source": [
    "#### Task 5. Write definition of `pop()` function and test its functionality"
   ]
  },
  {
   "cell_type": "code",
   "execution_count": null,
   "metadata": {},
   "outputs": [],
   "source": [
    "def pop(self):\n",
    "    \"\"\" Return the first node's value and remove it from the list. \"\"\"\n",
    "    if self.head is None:\n",
    "        return None\n",
    "\n",
    "    node = self.head\n",
    "    self.head = self.head.next\n",
    "\n",
    "    return node.value"
   ]
  },
  {
   "cell_type": "code",
   "execution_count": null,
   "metadata": {},
   "outputs": [],
   "source": [
    "# Test pop\n",
    "value = linked_list.pop()\n",
    "assert value == 2, f\"list contents: {linked_list.to_list()}\"\n",
    "assert linked_list.head.value == 1, f\"list contents: {linked_list.to_list()}\""
   ]
  },
  {
   "cell_type": "markdown",
   "metadata": {},
   "source": [
    "#### Task 6. Write definition of `insert()` function and test its functionality"
   ]
  },
  {
   "cell_type": "code",
   "execution_count": null,
   "metadata": {},
   "outputs": [],
   "source": [
    "def insert(self, value, pos):\n",
    "    \"\"\" Insert value at pos position in the list. If pos is larger than the\n",
    "    length of the list, append to the end of the list. \"\"\"\n",
    "        \n",
    "    # TODO: Write function to insert here\n",
    "    if self.head is None:\n",
    "        self.head = Node(value)\n",
    "    \n",
    "    if pos == 0:\n",
    "        self.prepend(value)\n",
    "        return\n",
    "    \n",
    "    node = self.head\n",
    "    idx = 0\n",
    "    while node.next is not None and idx <= pos:\n",
    "        if (idx+1) == pos:\n",
    "            temp = node.next\n",
    "            node.next = Node(value)\n",
    "            node.next.next = temp\n",
    "            return\n",
    "        node = node.next\n",
    "    self.append(value)\n",
    "    \n",
    "\n",
    "LinkedList.insert = insert"
   ]
  },
  {
   "cell_type": "code",
   "execution_count": null,
   "metadata": {},
   "outputs": [],
   "source": [
    "# Test insert \n",
    "linked_list.insert(5, 0)\n",
    "assert linked_list.to_list() == [5, 1, 4], f\"list contents: {linked_list.to_list()}\"\n",
    "linked_list.insert(2, 1)\n",
    "assert linked_list.to_list() == [5, 2, 1, 4], f\"list contents: {linked_list.to_list()}\"\n",
    "linked_list.insert(3, 6)\n",
    "assert linked_list.to_list() == [5, 2, 1, 4, 3], f\"list contents: {linked_list.to_list()}\""
   ]
  },
  {
   "cell_type": "markdown",
   "metadata": {},
   "source": [
    "#### Task 7. Write definition of `size()` function and test its functionality"
   ]
  },
  {
   "cell_type": "code",
   "execution_count": null,
   "metadata": {},
   "outputs": [],
   "source": [
    "def size(self):\n",
    "    \"\"\" Return the size or length of the linked list. \"\"\"\n",
    "    size = 0\n",
    "    node = self.head\n",
    "    while node:\n",
    "        size += 1\n",
    "        node = node.next\n",
    "\n",
    "    return size"
   ]
  },
  {
   "cell_type": "code",
   "execution_count": null,
   "metadata": {},
   "outputs": [],
   "source": [
    "# Test size function\n",
    "assert linked_list.size() == 5, f\"list contents: {linked_list.to_list()}\""
   ]
  },
  {
   "cell_type": "code",
   "execution_count": null,
   "metadata": {},
   "outputs": [],
   "source": [
    "\n",
    "def to_list(self):\n",
    "    out = []\n",
    "    node = self.head\n",
    "    while node:\n",
    "        out.append(node.value)\n",
    "        node = node.next\n",
    "    return out\n"
   ]
  },
  {
   "cell_type": "markdown",
   "metadata": {},
   "source": [
    "# Reversing a linked list exercise\n",
    "\n",
    "Given a singly linked list, return another linked list that is the reverse of the first."
   ]
  },
  {
   "cell_type": "code",
   "execution_count": null,
   "metadata": {},
   "outputs": [],
   "source": [
    "# Helper Code\n",
    "\n",
    "class Node:\n",
    "    def __init__(self, value):\n",
    "        self.value = value\n",
    "        self.next = None\n",
    "\n",
    "class LinkedList:\n",
    "    def __init__(self):\n",
    "        self.head = None\n",
    "        \n",
    "    def append(self, value):\n",
    "        if self.head is None:\n",
    "            self.head = Node(value)\n",
    "            return\n",
    "        \n",
    "        node = self.head\n",
    "        while node.next:\n",
    "            node = node.next\n",
    "\n",
    "        node.next = Node(value)\n",
    "        \n",
    "    def __iter__(self):\n",
    "        node = self.head\n",
    "        while node:\n",
    "            yield node.value\n",
    "            node = node.next\n",
    "            \n",
    "    def __repr__(self):\n",
    "        return str([v for v in self])"
   ]
  },
  {
   "cell_type": "code",
   "execution_count": null,
   "metadata": {},
   "outputs": [],
   "source": [
    "# Solution\n",
    "\n",
    "# Time complexity O(N)\n",
    "def reverse(linked_list):\n",
    "    \"\"\"\n",
    "    Reverse the inputted linked list\n",
    "\n",
    "    Args:\n",
    "       linked_list(obj): Linked List to be reversed\n",
    "    Returns:\n",
    "       obj: Reveresed Linked List\n",
    "    \"\"\"\n",
    "    new_list = LinkedList()\n",
    "    \n",
    "    prev_node = None\n",
    "\n",
    "    \"\"\"\n",
    "    A simple idea - Pick a node from the original linked list traversing form the beginning, and \n",
    "    prepend it to the new linked list. \n",
    "    We have to use a loop to iterate over the nodes of original linked list\n",
    "    \"\"\"\n",
    "    # In this \"for\" loop, the \"value\" is just a variable whose value will be updated in each iteration\n",
    "    for value in linked_list:\n",
    "        # create a new node\n",
    "        new_node = Node(value)\n",
    "        \n",
    "        # Make the new_node.next point to the \n",
    "        # node created in previous iteration\n",
    "        new_node.next = prev_node \n",
    "        \n",
    "        # This is the last statement of the loop\n",
    "        # Mark the current new node as the \"prev_node\" for next iteration\n",
    "        prev_node = new_node\n",
    "    \n",
    "    # Update the new_list.head to point to the final node that came out of the loop\n",
    "    new_list.head = prev_node\n",
    "    \n",
    "    return new_list\n"
   ]
  },
  {
   "cell_type": "markdown",
   "metadata": {},
   "source": [
    "# Detecting Loops in Linked Lists\n",
    "\n",
    "In this notebook, you'll implement a function that detects if a loop exists in a linked list. The way we'll do this is by having two pointers, called \"runners\", moving through the list at different rates. Typically we have a \"slow\" runner which moves at one node per step and a \"fast\" runner that moves at two nodes per step.\n",
    "\n",
    "If a loop exists in the list, the fast runner will eventually move behind the slow runner as it moves to the beginning of the loop. Eventually it will catch up to the slow runner and both runners will be pointing to the same node at the same time. If this happens then you know there is a loop in the linked list. Below is an example where we have a slow runner (the green arrow) and a fast runner (the red arrow)."
   ]
  },
  {
   "cell_type": "code",
   "execution_count": null,
   "metadata": {},
   "outputs": [],
   "source": [
    "class Node:\n",
    "    def __init__(self, value):\n",
    "        self.value = value\n",
    "        self.next = None\n",
    "        \n",
    "class LinkedList:\n",
    "    def __init__(self, init_list=None):\n",
    "        self.head = None\n",
    "        if init_list:\n",
    "            for value in init_list:\n",
    "                self.append(value)\n",
    "        \n",
    "    def append(self, value):\n",
    "        if self.head is None:\n",
    "            self.head = Node(value)\n",
    "            return\n",
    "        \n",
    "        # Move to the tail (the last node)\n",
    "        node = self.head\n",
    "        while node.next:\n",
    "            node = node.next\n",
    "        \n",
    "        node.next = Node(value)\n",
    "        return"
   ]
  },
  {
   "cell_type": "code",
   "execution_count": null,
   "metadata": {},
   "outputs": [],
   "source": [
    "list_with_loop = LinkedList([2, -1, 3, 0, 5])\n",
    "\n",
    "# Creating a loop where the last node points back to the second node\n",
    "loop_start = list_with_loop.head.next\n",
    "\n",
    "node = list_with_loop.head\n",
    "while node.next: \n",
    "    node = node.next   \n",
    "node.next = loop_start"
   ]
  },
  {
   "cell_type": "code",
   "execution_count": null,
   "metadata": {},
   "outputs": [],
   "source": [
    "def iscircular(linked_list):\n",
    "    \"\"\"\n",
    "    Determine wether the Linked List is circular or not\n",
    "\n",
    "    Args:\n",
    "       linked_list(obj): Linked List to be checked\n",
    "    Returns:\n",
    "       bool: Return True if the linked list is circular, return False otherwise\n",
    "    \"\"\"\n",
    "\n",
    "    if linked_list.head is None:\n",
    "        return False\n",
    "    \n",
    "    slow = linked_list.head\n",
    "    fast = linked_list.head\n",
    "    \n",
    "    while fast and fast.next:\n",
    "        # slow pointer moves one node\n",
    "        slow = slow.next\n",
    "        # fast pointer moves two nodes\n",
    "        fast = fast.next.next\n",
    "        \n",
    "        if slow == fast:\n",
    "            return True\n",
    "    \n",
    "    # If we get to a node where fast doesn't have a next node or doesn't exist itself, \n",
    "    # the list has an end and isn't circular\n",
    "    return False\n"
   ]
  },
  {
   "cell_type": "code",
   "execution_count": null,
   "metadata": {},
   "outputs": [],
   "source": [
    "# Test Cases\n",
    "\n",
    "# Create another circular linked list\n",
    "small_loop = LinkedList([0])\n",
    "small_loop.head.next = small_loop.head\n",
    "\n",
    "print (\"Pass\" if iscircular(list_with_loop) else \"Fail\")                  # Pass\n",
    "print (\"Pass\" if iscircular(LinkedList([-4, 7, 2, 5, -1])) else \"Fail\")   # Fail\n",
    "print (\"Pass\" if iscircular(LinkedList([1])) else \"Fail\")                 # Fail\n",
    "print (\"Pass\" if iscircular(small_loop) else \"Fail\")                      # Pass\n",
    "print (\"Pass\" if iscircular(LinkedList([])) else \"Fail\")                  # Fail"
   ]
  },
  {
   "cell_type": "markdown",
   "metadata": {},
   "source": [
    "## Flattening a nested linked list\n",
    "\n",
    "Suppose you have a linked list where the value of each node is a sorted linked list (i.e., it is a _nested_ list). Your task is to _flatten_ this nested list—that is, to combine all nested lists into a single (sorted) linked list.\n",
    "\n",
    "First, we'll need some code for generating nodes and a linked list:"
   ]
  },
  {
   "cell_type": "code",
   "execution_count": null,
   "metadata": {},
   "outputs": [],
   "source": [
    "# Helper code\n",
    "\n",
    "# A class behaves like a data-type, just like an int, float or any other built-in ones. \n",
    "# User defined class\n",
    "class Node:\n",
    "    def __init__(self, value): # <-- For simple LinkedList, \"value\" argument will be an int, whereas, for NestedLinkedList, \"value\" will be a LinkedList\n",
    "        self.value = value\n",
    "        self.next = None\n",
    "    \n",
    "    def __repr__(self):\n",
    "        return str(self.value)\n",
    "    \n",
    "# User defined class\n",
    "class LinkedList: \n",
    "    def __init__(self, head): # <-- Expects \"head\" to be a Node made up of an int or LinkedList\n",
    "        self.head = head\n",
    "    \n",
    "    '''\n",
    "    For creating a simple LinkedList, we will pass an integer as the \"value\" argument\n",
    "    For creating a nested LinkedList, we will pass a LinkedList as the \"value\" argument\n",
    "    '''\n",
    "    def append(self, value):\n",
    "        \n",
    "        # If LinkedList is empty\n",
    "        if self.head is None:\n",
    "            self.head = Node(value)\n",
    "            return\n",
    "        \n",
    "        # Create a temporary Node object\n",
    "        node = self.head\n",
    "        \n",
    "        # Iterate till the end of the currrent LinkedList\n",
    "        while node.next is not None:\n",
    "            node = node.next\n",
    "        \n",
    "        # Append the newly creataed Node at the end of the currrent LinkedList\n",
    "        node.next = Node(value)\n",
    "\n",
    "        \n",
    "    '''We will need this function to convert a LinkedList object into a Python list of integers'''\n",
    "    def to_list(self):\n",
    "        out = []          # <-- Declare a Python list\n",
    "        node = self.head  # <-- Create a temporary Node object\n",
    "        \n",
    "        while node:       # <-- Iterate untill we have nodes available\n",
    "            out.append(int(str(node.value))) # <-- node.value is actually of type Node, therefore convert it into int before appending to the Python list\n",
    "            node = node.next\n",
    "        \n",
    "        return out"
   ]
  },
  {
   "cell_type": "markdown",
   "metadata": {},
   "source": [
    "### Exercise - Write the two function definitions below\n",
    "Now, in the cell below, see if you can solve the problem by implementing the `flatten` method.\n",
    "\n",
    "**Hint**: If you first create a `merge` method that merges two linked lists into a sorted linked list, then there is an elegant recursive solution."
   ]
  },
  {
   "cell_type": "code",
   "execution_count": null,
   "metadata": {},
   "outputs": [],
   "source": [
    "def merge(list1, list2):\n",
    "    merged = LinkedList(None)\n",
    "    if list1 is None:\n",
    "        return list2\n",
    "    if list2 is None:\n",
    "        return list1\n",
    "    \n",
    "    list1_elt = list1.head\n",
    "    list2_elt = list2.head\n",
    "    while list1_elt is not None or list2_elt is not None:\n",
    "        if list1_elt is None:\n",
    "            merged.append(list2_elt)\n",
    "            list2_elt = list2_elt.next\n",
    "        elif list2_elt is None:\n",
    "            merged.append(list1_elt)\n",
    "            list1_elt = list1_elt.next\n",
    "        elif list1_elt.value <= list2_elt.value:\n",
    "            merged.append(list1_elt)\n",
    "            list1_elt = list1_elt.next\n",
    "        else:\n",
    "            merged.append(list2_elt)\n",
    "            list2_elt = list2_elt.next\n",
    "    return merged"
   ]
  },
  {
   "cell_type": "code",
   "execution_count": null,
   "metadata": {},
   "outputs": [],
   "source": [
    "''' In a NESTED LinkedList object, each node will be a simple LinkedList in itself'''\n",
    "class NestedLinkedList(LinkedList):\n",
    "    def flatten(self):\n",
    "        return self._flatten(self.head) # <-- self.head is a node for NestedLinkedList\n",
    "\n",
    "    '''  A recursive function ''' \n",
    "    def _flatten(self, node):\n",
    "        \n",
    "        # A termination condition\n",
    "        if node.next is None:\n",
    "            return merge(node.value, None) # <-- First argument is a simple LinkedList\n",
    "        \n",
    "        # _flatten() is calling itself untill a termination condition is achieved\n",
    "        return merge(node.value, self._flatten(node.next)) # <-- Both arguments are a simple LinkedList each"
   ]
  },
  {
   "cell_type": "markdown",
   "metadata": {},
   "source": [
    "### Computational Complexity\n",
    "Lets start with the computational complexity of `merge`.  Merge takes in two lists.  Let's say the lengths of the lists are $N_{1}$ and $N_{2}$. Because we assume the inputs are sorted, `merge` is very efficient. It looks at the first element of each list and adds the smaller one to the returned list.  Every time through the loop we are appending one element to the list, so it will take $N_{1} + N_{2}$ iterations until we have the whole list.\n",
    "\n",
    "The complexity of `flatten` is a little more complicated to calculate.  Suppose our `NestedLinkedList` has $N$ linked lists and each list's length is represented by $M_{1}, M_{2}, ..., M_{N}$.\n",
    "\n",
    "We can represent this recursion as:\n",
    "\n",
    "$merge(M_{1}, merge(M_{2}, merge(..., merge(M_{N-1}, merge(M_{N}, None)))))$\n",
    "\n",
    "Let's start from the inside.  The inner most merge returns the $nth$ linked list.  The next merge does $M_{N-1} + M_{N}$ comparisons.  The next merge does $M_{N-2} + M_{N-1} + M_{N}$ comparisons.\n",
    "\n",
    "Eventually we will do $N$ comparisons on all of the $M_{N}$ elements. We will do $N-1$ comparisons on $M_{N-1}$ elements.\n",
    "\n",
    "This can be generalized as:\n",
    "\n",
    "$$\n",
    "\\sum_n^N n*M_{n}\n",
    "$$"
   ]
  },
  {
   "cell_type": "markdown",
   "metadata": {},
   "source": [
    "### Problem Statement\n",
    "\n",
    "You are given a non-negative number in the form of list elements. For example, the number `123` would be provided as `arr = [1, 2, 3]`. Add one to the number and return the output in the form of a new list. \n",
    "\n",
    "**Example 1:**\n",
    "* `input = [1, 2, 3]`\n",
    "* `output = [1, 2, 4]`\n",
    "\n",
    "\n",
    "**Example 2:**\n",
    "* `input = [1, 2, 9]`\n",
    "* `output = [1, 3, 0]`\n",
    "\n",
    "**Example 3:**\n",
    "* `input = [9, 9, 9]`\n",
    "* `output = [1, 0, 0, 0]`\n",
    "\n",
    "\n",
    "**Challenge:**\n",
    "One way to solve this problem is to convert the input array into a number and then add one to it. For example, if we have `input = [1, 2, 3]`, you could solve this problem by creating the number `123` and then separating the digits of the output number `124`.\n",
    "\n",
    "But can you solve it in some other way?\n",
    "\n",
    "### Exercise - Write your function definition here. \n",
    "**Note** - Try proposing a non-recursive solution. We will see a recursive solution in the next lesson \"Recursion\". "
   ]
  },
  {
   "cell_type": "code",
   "execution_count": null,
   "metadata": {},
   "outputs": [],
   "source": [
    "# Solution\n",
    "'''\n",
    "The Logic\n",
    "1. The idea is to start checking the array from the right end, in a FOR loop. \n",
    "2. Add 1 to the digit, and check if it lies in the range 0-9 OR becomes 10.\n",
    "3. If the updated digit is between 0-9, quit the FOR loop. (Example, original array is [1,2,3])\n",
    "4. Otherwise update the current position in the array, and carry over the \"borrow\" to the next left digit. (Example, original array is [9,9,9])\n",
    "5. Once, we finish iteratig over all the digits of the original array, we will be left with the final \"borrow\", either 0 or 1. Prepend this \"borrow\" to the original array. \n",
    "6. Return the updated array, but there is trick which helps us to select the starting index of the updated array. Example, [0, 1, 2, 4] is the updated array, and we want to return only [1, 2, 4]\n",
    "'''\n",
    "\n",
    "\n",
    "# Change the arr in-place\n",
    "def add_one(arr):\n",
    "    borrow = 1; # initial value\n",
    "    \n",
    "    \"\"\" \n",
    "    The three arguments of range() function are: \n",
    "    starting index, ending index(non-inclusive), and the increment/decrement value\n",
    "    \"\"\" \n",
    "    # Traverse in reverse direction starting from the end of the list\n",
    "    # The argument of range() functions are:\n",
    "    # starting index, ending index (non exclusive), and the increment/decrement size\n",
    "    for i in range(len(arr), 0, -1):     \n",
    "        \n",
    "        # The \"digit\" denotes the updated Unit, Tens, and then Hunderd  position iteratively\n",
    "        digit = borrow + arr[i - 1]       \n",
    "       \n",
    "        '''\n",
    "        The \"borrow\" will be carried to the next left digit \n",
    "        If the digit is between 0-9, borrrow will be 0. \n",
    "        If digit is 10, then the borrow will be 1.\n",
    "        '''\n",
    "        # The \"//\" is a floor division operator\n",
    "        borrow = digit//10               \n",
    "\n",
    "        if borrow == 0:\n",
    "            # Update the arr[i - 1] with the updated digit, and quit the FOR loop.\n",
    "            arr[i - 1] = digit\n",
    "            break\n",
    "        else:\n",
    "            # Update the arr[i - 1] with the remainder of (digit % 10)\n",
    "            arr[i - 1] = digit % 10\n",
    "    \n",
    "    # Prepend the final \"borrow\" to the original array.  \n",
    "    arr = [borrow] + arr\n",
    "    \n",
    "    # In this final updated arr, find a position (starting index) from where to return the list.\n",
    "    # For [0, 1, 2, 4] , the position (starting index) will be 1\n",
    "    # For [1, 0, 0, 0] , the position (starting index) will be 0\n",
    "    position = 0\n",
    "    while arr[position]==0:\n",
    "        position += 1\n",
    "\n",
    "    return arr[position:]\n",
    "\n",
    "\n",
    "#-------------------------------------#\n",
    "# Descriptive Example 1 - Original array is [1, 2, 3]\n",
    "#-------------------------------------#\n",
    "\n",
    "'''\n",
    "FOR LOOP BEGINS\n",
    "    For i=3 , arr[2]=3 , digit=4 , borrow=0\n",
    "        BORROW COMPARISON START\n",
    "            Since borrow is 0, update arr[2] = digit =  4 and quit the FOR loop.\n",
    "            NO need to check other digits on the left of current digit\n",
    "FOR LOOP ENDS\n",
    "\n",
    "Append  [0] to the beginning of the original arr. Now arr = [0, 1, 2, 4]\n",
    "In this final updated arr, find a position from where to return the list. This position (index) =  1\n",
    "Return  [1, 2, 4]\n",
    "\n",
    "'''\n",
    "#-------------------------------------#\n",
    "# Descriptive Example 2 - Original array is [9, 9, 9]\n",
    "#-------------------------------------#\n",
    "'''\n",
    "FOR LOOP BEGINS\n",
    "    For i=  3 , arr[ 2 ] =  9 , digit =  10 , borrow =  1\n",
    "        BORROW COMPARISON START\n",
    "            Since borrow is non-zero, update arr[ 2 ] = digit % 10 =  0\n",
    "            Update output = borrow = 1\n",
    "        BORROW COMPARISON ENDS \n",
    "\n",
    "    For i=  2 , arr[ 1 ] =  9 , digit =  10 , borrow =  1\n",
    "        BORROW COMPARISON START\n",
    "            Since borrow is non-zero, update arr[ 1 ] = digit % 10 =  0\n",
    "            Update output = borrow = 1\n",
    "        BORROW COMPARISON ENDS \n",
    "\n",
    "    For i=  1 , arr[ 0 ] =  9 , digit =  10 , borrow =  1\n",
    "        BORROW COMPARISON START\n",
    "            Since borrow is non-zero, update arr[ 0 ] = digit % 10 =  0\n",
    "            Update output = borrow = 1\n",
    "        BORROW COMPARISON ENDS \n",
    "\n",
    "FOR LOOP ENDS\n",
    "\n",
    "Append  [1] to the beginning of the original arr. Now arr = [1, 0, 0, 0]\n",
    "\n",
    "In this final updated arr, find a position from where to return the list. This position (index) =  0\n",
    "Return  [1, 0, 0, 0] \n",
    "'''"
   ]
  },
  {
   "cell_type": "code",
   "execution_count": null,
   "metadata": {},
   "outputs": [],
   "source": [
    "# A helper function for Test Cases\n",
    "def test_function(test_case):\n",
    "    arr = test_case[0]\n",
    "    solution = test_case[1]\n",
    "    \n",
    "    output = add_one(arr)\n",
    "    for index, element in enumerate(output):\n",
    "        if element != solution[index]:\n",
    "            print(\"Fail\")\n",
    "            return\n",
    "    print(\"Pass\")    "
   ]
  },
  {
   "cell_type": "code",
   "execution_count": null,
   "metadata": {},
   "outputs": [],
   "source": [
    "# Test Case 1\n",
    "arr = [0]\n",
    "solution = [1]\n",
    "test_case = [arr, solution]\n",
    "test_function(test_case)"
   ]
  },
  {
   "cell_type": "code",
   "execution_count": null,
   "metadata": {},
   "outputs": [],
   "source": [
    "# Test Case 2\n",
    "arr = [1, 2, 3]\n",
    "solution = [1, 2, 4]\n",
    "test_case = [arr, solution]\n",
    "test_function(test_case)"
   ]
  },
  {
   "cell_type": "code",
   "execution_count": null,
   "metadata": {},
   "outputs": [],
   "source": [
    "# Test Case 3\n",
    "arr = [9, 9, 9]\n",
    "solution = [1, 0, 0, 0]\n",
    "test_case = [arr, solution]\n",
    "test_function(test_case)"
   ]
  },
  {
   "cell_type": "markdown",
   "metadata": {},
   "source": [
    "### Problem Statement\n",
    "\n",
    "You have been given an array of `length = n`. The array contains integers from `0` to `n - 2`. Each number in the array is present exactly once except for one number which is present twice. Find and return this duplicate number present in the array\n",
    "\n",
    "**Example:**\n",
    "* `arr = [0, 2, 3, 1, 4, 5, 3]`\n",
    "* `output = 3` (because `3` is present twice)\n",
    "\n",
    "The expected time complexity for this problem is `O(n)` and the expected space-complexity is `O(1)`."
   ]
  },
  {
   "cell_type": "code",
   "execution_count": null,
   "metadata": {},
   "outputs": [],
   "source": [
    "# Solution\n",
    "'''\n",
    "Notice carefully that\n",
    "1. All the elements of the array are always non-negative\n",
    "2. If array length = n, then elements would start from 0 to (n-2), i.e. Natural numbers 0,1,2,3,4,5...(n-2)\n",
    "3. There is only SINGLE element which is present twice.\n",
    "\n",
    "Therefore let's find the sum of all elements (current_sum) of the original array, and\n",
    "find the sum of first (n-2) Natural numbers (expected_sum).\n",
    "\n",
    "Trick: \n",
    "The second occurance of a particular number (say `x`) is actually occupying the space \n",
    "that would have been utilized by the number (n-1). This leads to: \n",
    "current_sum  = 0 + 1 + 2 + 3 + .... + (n-2) + x\n",
    "expected_sum = 0 + 1 + 2 + 3 + .... + (n-2)\n",
    "current_sum - expected_sum = x \n",
    "Tada!!! :)  \n",
    "\n",
    "'''\n",
    "def duplicate_number(arr):\n",
    "    current_sum = 0\n",
    "    expected_sum = 0\n",
    "    \n",
    "    # Traverse the original array in the forward direction \n",
    "    for num in arr:\n",
    "        current_sum += num\n",
    "    \n",
    "    \n",
    "    # Traverse from 0 to (length of array-1) to get the expected_sum\n",
    "    # Alternatively, you can use the formula for sum of an Arithmetic Progression to get the expected_sum\n",
    "    \n",
    "    # The argument of range() functions are:\n",
    "    # starting index [OPTIONAL], ending index (non exclusive), and the increment/decrement size [OPTIONAL]\n",
    "    # It means that if the array length = n, loop will run form 0 to (n-2)\n",
    "    for i in range(len(arr) - 1):\n",
    "        expected_sum += i\n",
    "    \n",
    "    \n",
    "    # The difference between the \n",
    "    return current_sum - expected_sum\n"
   ]
  },
  {
   "cell_type": "code",
   "execution_count": null,
   "metadata": {},
   "outputs": [],
   "source": [
    "def test_function(test_case):\n",
    "    arr = test_case[0]\n",
    "    solution = test_case[1]\n",
    "    output = duplicate_number(arr)\n",
    "    if output == solution:\n",
    "        print(\"Pass\")\n",
    "    else:\n",
    "        print(\"Fail\")"
   ]
  },
  {
   "cell_type": "code",
   "execution_count": null,
   "metadata": {},
   "outputs": [],
   "source": [
    "arr = [0, 0]\n",
    "solution = 0\n",
    "\n",
    "test_case = [arr, solution]\n",
    "test_function(test_case)"
   ]
  },
  {
   "cell_type": "code",
   "execution_count": null,
   "metadata": {},
   "outputs": [],
   "source": [
    "arr = [0, 2, 3, 1, 4, 5, 3]\n",
    "solution = 3\n",
    "\n",
    "test_case = [arr, solution]\n",
    "test_function(test_case)"
   ]
  },
  {
   "cell_type": "code",
   "execution_count": null,
   "metadata": {},
   "outputs": [],
   "source": [
    "arr = [0, 1, 5, 4, 3, 2, 0]\n",
    "solution = 0\n",
    "\n",
    "test_case = [arr, solution]\n",
    "test_function(test_case)"
   ]
  },
  {
   "cell_type": "code",
   "execution_count": null,
   "metadata": {},
   "outputs": [],
   "source": [
    "arr = [0, 1, 5, 5, 3, 2, 4]\n",
    "solution = 5\n",
    "\n",
    "test_case = [arr, solution]\n",
    "test_function(test_case)"
   ]
  },
  {
   "cell_type": "markdown",
   "metadata": {},
   "source": [
    "### Problem Statement\n",
    "\n",
    "You have been given an array containg numbers. Find and return the largest sum in a contiguous subarray within the input array.\n",
    "\n",
    "**Example 1:**\n",
    "* `arr= [1, 2, 3, -4, 6]`\n",
    "* The largest sum is `8`, which is the sum of all elements of the array.\n",
    "\n",
    "**Example 2:**\n",
    "* `arr = [1, 2, -5, -4, 1, 6]`\n",
    "* The largest sum is `7`, which is the sum of the last two elements of the array.\n",
    "\n",
    "\n",
    "\n",
    " "
   ]
  },
  {
   "cell_type": "code",
   "execution_count": null,
   "metadata": {},
   "outputs": [],
   "source": [
    "# Solution\n",
    "'''\n",
    "The Idea:\n",
    "1. We have to find the sum of \"contiguous\" subarray, therefore we must not change the order of array elements.\n",
    "2. Let `current_sum` denotes the sum of a subarray, and `max_sum` denotes the maximum value of `current_sum`.\n",
    "3. LOOP STARTS: For each element of the array, update the `current_sum` with the MAXIMUM of either:\n",
    " - The element added to the `current_sum` (denotes the addition of the element to the current subarray)\n",
    " - The element itself  (denotes the starting of a new subarray)\n",
    " - Update (overwrite) `max_sum`, if it is lower than the updated `current_sum`\n",
    "4. Return `max_sum`\n",
    "'''\n",
    "\n",
    "def max_sum_subarray(arr):\n",
    "    \n",
    "    current_sum = arr[0] # `current_sum` denotes the sum of a subarray\n",
    "    max_sum = arr[0]     # `max_sum` denotes the maximum value of `current_sum` ever\n",
    "    \n",
    "    # Loop from VALUE at index position 1 till the end of the array\n",
    "    for element in arr[1:]:\n",
    "        \n",
    "        '''\n",
    "        # Compare (current_sum + element) vs (element)\n",
    "        # If (current_sum + element) is higher, it denotes the addition of the element to the current subarray\n",
    "        # If (element) alone is higher, it denotes the starting of a new subarray\n",
    "        '''\n",
    "        current_sum = max(current_sum + element, element)\n",
    "        \n",
    "        # Update (overwrite) `max_sum`, if it is lower than the updated `current_sum`\n",
    "        max_sum = max(current_sum, max_sum)   \n",
    "    \n",
    "    return max_sum"
   ]
  },
  {
   "cell_type": "code",
   "execution_count": null,
   "metadata": {},
   "outputs": [],
   "source": [
    "def test_function(test_case):\n",
    "    arr = test_case[0]\n",
    "    solution = test_case[1]\n",
    "    \n",
    "    output = max_sum_subarray(arr)\n",
    "    if output == solution:\n",
    "        print(\"Pass\")\n",
    "    else:\n",
    "        print(\"Fail\")"
   ]
  },
  {
   "cell_type": "code",
   "execution_count": null,
   "metadata": {},
   "outputs": [],
   "source": [
    "arr= [1, 2, 3, -4, 6]\n",
    "solution= 8 # sum of array\n",
    "\n",
    "test_case = [arr, solution]\n",
    "test_function(test_case)"
   ]
  },
  {
   "cell_type": "code",
   "execution_count": null,
   "metadata": {},
   "outputs": [],
   "source": [
    "arr = [1, 2, -5, -4, 1, 6]\n",
    "solution = 7   # sum of last two elements\n",
    "\n",
    "test_case = [arr, solution]\n",
    "test_function(test_case)"
   ]
  },
  {
   "cell_type": "code",
   "execution_count": null,
   "metadata": {},
   "outputs": [],
   "source": [
    "arr = [-12, 15, -13, 14, -1, 2, 1, -5, 4]\n",
    "solution = 18  # sum of subarray = [15, -13, 14, -1, 2, 1]\n",
    "\n",
    "test_case = [arr, solution]\n",
    "test_function(test_case)"
   ]
  },
  {
   "cell_type": "markdown",
   "metadata": {},
   "source": [
    "# Problem Statement\n",
    "\n",
    "Find and return the `nth` row of Pascal's triangle in the form a list. `n` is 0-based.\n",
    "\n",
    "For example, if `n = 4`, then `output = [1, 4, 6, 4, 1]`.\n",
    "\n",
    "To know more about Pascal's triangle: https://www.mathsisfun.com/pascals-triangle.html"
   ]
  },
  {
   "cell_type": "code",
   "execution_count": null,
   "metadata": {},
   "outputs": [],
   "source": [
    "# Solution\n",
    "\n",
    "'''\n",
    "Points to note:\n",
    "1. We have to return a list.\n",
    "2. The elements of n^th row are made up of elements of (n-1)^th row. This comes up till the 1^st row. \n",
    "   We will follow a top-down approach. \n",
    "3. Except for the first and last element, any other element at position `j` in the current row is the \n",
    "   sum of elements at position `j` and `j-1` in the previous row. \n",
    "4. Be careful about the edge cases, example, an index should never be a NEGATIVE at any point of time. \n",
    "'''\n",
    "\n",
    "def nth_row_pascal(n):\n",
    "    \n",
    "    if n == 0:\n",
    "        return [1]\n",
    "    \n",
    "    current_row = [1] # First row\n",
    "    \n",
    "    ''' Loop from 1 to n; `i` denotes the row number'''\n",
    "    for i in range(1, n + 1):\n",
    "        # Set the `current_row` from previous iteration as the `previous_row`\n",
    "        previous_row = current_row\n",
    "        \n",
    "        # Let's build the fresh current_row gradually\n",
    "        current_row = [1] # add the default first element at the 0^th index of the `i^th` row\n",
    "        \n",
    "        '''Loop from 1 to (i-1); `j` denotes the index of an element with in the `i^th` row'''\n",
    "        # Example, for 5th row we have considered n=4, \n",
    "        # we will iterate index from 1 to 3, because \n",
    "        # the default element at the 0^th index has already been added\n",
    "        for j in range(1, i):\n",
    "            \n",
    "            # An element at position `j` in the current row is the \n",
    "            # sum of elements at position `j` and `j-1` in the previous row.\n",
    "            next_number = previous_row[j] + previous_row[j - 1]\n",
    "            \n",
    "            # Append the new element to the current_row\n",
    "            current_row.append(next_number)\n",
    "            \n",
    "        current_row.append(1) # append the default last element\n",
    "    return current_row"
   ]
  },
  {
   "cell_type": "code",
   "execution_count": null,
   "metadata": {},
   "outputs": [],
   "source": [
    "def test_function(test_case):\n",
    "    n = test_case[0]\n",
    "    solution = test_case[1]\n",
    "    output = nth_row_pascal(n)\n",
    "    if solution == output:\n",
    "        print(\"Pass\")\n",
    "    else:\n",
    "        print(\"Fail\")"
   ]
  },
  {
   "cell_type": "code",
   "execution_count": null,
   "metadata": {},
   "outputs": [],
   "source": [
    "n = 0\n",
    "solution = [1]\n",
    "\n",
    "test_case = [n, solution]\n",
    "test_function(test_case)"
   ]
  },
  {
   "cell_type": "code",
   "execution_count": null,
   "metadata": {},
   "outputs": [],
   "source": [
    "n = 1\n",
    "solution = [1, 1]\n",
    "\n",
    "test_case = [n, solution]\n",
    "test_function(test_case)"
   ]
  },
  {
   "cell_type": "code",
   "execution_count": null,
   "metadata": {},
   "outputs": [],
   "source": [
    "n = 2\n",
    "solution = [1, 2, 1]\n",
    "\n",
    "test_case = [n, solution]\n",
    "test_function(test_case)"
   ]
  },
  {
   "cell_type": "code",
   "execution_count": null,
   "metadata": {},
   "outputs": [],
   "source": [
    "n = 3\n",
    "solution = [1, 3, 3, 1]\n",
    "\n",
    "test_case = [n, solution]\n",
    "test_function(test_case)"
   ]
  },
  {
   "cell_type": "code",
   "execution_count": null,
   "metadata": {},
   "outputs": [],
   "source": [
    "n = 4\n",
    "solution = [1, 4, 6, 4, 1]\n",
    "\n",
    "test_case = [n, solution]\n",
    "test_function(test_case)"
   ]
  },
  {
   "cell_type": "markdown",
   "metadata": {},
   "source": [
    "### Problem Statement\n",
    "\n",
    "Given a linked list with integer data, arrange the elements in such a manner that all nodes with even numbers are placed after odd numbers. **Do not create any new nodes and avoid using any other data structure. The relative order of even and odd elements must not change.** \n",
    "\n",
    "**Example:**\n",
    "* `linked list = 1 2 3 4 5 6`\n",
    "* `output = 1 3 5 2 4 6`"
   ]
  },
  {
   "cell_type": "code",
   "execution_count": null,
   "metadata": {},
   "outputs": [],
   "source": [
    "class Node:\n",
    "    def __init__(self, data):\n",
    "        self.data = data\n",
    "        self.next = None"
   ]
  },
  {
   "cell_type": "markdown",
   "metadata": {},
   "source": [
    "### Exercise - Write the function definition here"
   ]
  },
  {
   "cell_type": "code",
   "execution_count": null,
   "metadata": {},
   "outputs": [],
   "source": [
    "\"\"\"\n",
    "parameter: - head of the given linked list\n",
    "return: - head of the updated list with all even elements placed after odd elements\n",
    "\"\"\"\n",
    "#--------------------------------------------------#\n",
    "'''\n",
    "The Idea: Traverse the given LinkedList, and build two sub-lists: EVEN and ODD. \n",
    "For this purpose, we will use four helper references, that denotes starting and \n",
    "current ending of EVEN and ODD sub-list respectively. \n",
    "\n",
    "1. For each Node in the LinkedList, check if its data is even/odd. \n",
    "Change the \"next\" reference (pointer) of each Node, based on the following rules:\n",
    " - First even valued Node will be referenced by head of EVEN sub-list\n",
    " - Subsequent even valued Node will be appended to the tail of EVEN sub-list\n",
    "\n",
    " - First odd valued Node will be referenced by head of ODD sub-list\n",
    " - Subsequent odd valued Node will be appended to the tail of ODD sub-list\n",
    " \n",
    "2. After the loop, append the EVEN sub-list to the tail of ODD sub-list.\n",
    "'''\n",
    "#--------------------------------------------------#\n",
    "def even_after_odd(head):\n",
    "    \n",
    "    if head is None:\n",
    "        return head\n",
    "    \n",
    "    # Helper references\n",
    "    ''' `even_head` and `even_tail` represents the starting and current ending of the \"EVEN\" sub-list '''\n",
    "    even_head = None                    \n",
    "    even_tail = None\n",
    "    \n",
    "    ''' `odd_head` and `odd_tail` represents the starting and current ending of the \"ODD\" sub-list '''\n",
    "    odd_head = None\n",
    "    odd_tail = None\n",
    "    \n",
    "    current = head                  # <-- \"current\" represents the current Node. \n",
    "    \n",
    "    # Loop untill there are Nodes available in the LinkedList\n",
    "    while current:                  # <-- \"current\" will be updated at the end of each iteration\n",
    "        \n",
    "        next_node = current.next    # <-- \"next_node\" represents the next Node w.r.t. the current Node\n",
    "        \n",
    "        if current.data % 2 == 0:   # <-- current Node is even\n",
    "            \n",
    "            # Below \n",
    "            if even_head is None:   # <-- Make the current Node as the starting Node of EVEN sub-list\n",
    "                even_head = current     # `even_head` will now point where `current` is already pointing\n",
    "                even_tail = even_head     \n",
    "            else:                   # <-- Append the current even node to the tail of EVEN sub-list \n",
    "                even_tail.next = current\n",
    "                even_tail = even_tail.next\n",
    "        else:\n",
    "            if odd_head is None:    # <-- Make the current Node as the starting Node of ODD sub-list\n",
    "                odd_head = current\n",
    "                odd_tail = odd_head\n",
    "            else:                   # <-- Append the current odd node to the tail of ODD sub-list \n",
    "                odd_tail.next = current\n",
    "                odd_tail = odd_tail.next\n",
    "        current.next = None\n",
    "        current = next_node         # <-- Update \"head\" Node, for next iteration\n",
    "    \n",
    "    if odd_head is None:            # <-- Special case, when there are no odd Nodes \n",
    "        return even_head\n",
    "\n",
    "    odd_tail.next = even_head       # <-- Append the EVEN sub-list to the tail of ODD sub-list\n",
    "    \n",
    "    return odd_head"
   ]
  },
  {
   "cell_type": "code",
   "execution_count": null,
   "metadata": {},
   "outputs": [],
   "source": [
    "# helper functions for testing purpose\n",
    "def create_linked_list(arr):\n",
    "    if len(arr)==0:\n",
    "        return None\n",
    "    head = Node(arr[0])\n",
    "    tail = head\n",
    "    for data in arr[1:]:\n",
    "        tail.next = Node(data)\n",
    "        tail = tail.next\n",
    "    return head\n",
    "\n",
    "def print_linked_list(head):\n",
    "    while head:\n",
    "        print(head.data, end=' ')\n",
    "        head = head.next\n",
    "    print()"
   ]
  },
  {
   "cell_type": "code",
   "execution_count": null,
   "metadata": {},
   "outputs": [],
   "source": [
    "def test_function(test_case):\n",
    "    head = test_case[0]\n",
    "    solution = test_case[1]\n",
    "    \n",
    "    node_tracker = dict({})\n",
    "    node_tracker['nodes'] = list()\n",
    "    temp = head\n",
    "    while temp:\n",
    "        node_tracker['nodes'].append(temp)\n",
    "        temp = temp.next\n",
    "\n",
    "    head = even_after_odd(head)    \n",
    "    temp = head\n",
    "    index = 0\n",
    "    try:\n",
    "        while temp:\n",
    "            if temp.data != solution[index] or temp not in node_tracker['nodes']:\n",
    "                print(\"Fail\")\n",
    "                return\n",
    "            temp = temp.next\n",
    "            index += 1\n",
    "        print(\"Pass\")            \n",
    "    except Exception as e:\n",
    "        print(\"Fail\")"
   ]
  },
  {
   "cell_type": "code",
   "execution_count": null,
   "metadata": {},
   "outputs": [],
   "source": [
    "arr = [1, 2, 3, 4, 5, 6]\n",
    "solution = [1, 3, 5, 2, 4, 6]\n",
    "\n",
    "head = create_linked_list(arr)\n",
    "test_case = [head, solution]\n",
    "test_function(test_case)"
   ]
  },
  {
   "cell_type": "code",
   "execution_count": null,
   "metadata": {},
   "outputs": [],
   "source": [
    "arr = [1, 3, 5, 7]\n",
    "solution = [1, 3, 5, 7]\n",
    "\n",
    "head = create_linked_list(arr)\n",
    "test_case = [head, solution]\n",
    "test_function(test_case)"
   ]
  },
  {
   "cell_type": "code",
   "execution_count": null,
   "metadata": {},
   "outputs": [],
   "source": [
    "arr = [2, 4, 6, 8]\n",
    "solution = [2, 4, 6, 8]\n",
    "head = create_linked_list(arr)\n",
    "test_case = [head, solution]\n",
    "test_function(test_case)"
   ]
  },
  {
   "cell_type": "markdown",
   "metadata": {},
   "source": [
    "### Problem Statement\n",
    "\n",
    "You are given the head of a linked list and two integers, `i` and `j`.\n",
    "You have to retain the first `i` nodes and then delete the next `j` nodes. Continue doing so until the end of the linked list. \n",
    "\n",
    "**Example:**\n",
    "* `linked-list = 1 2 3 4 5 6 7 8 9 10 11 12`\n",
    "* `i = 2`\n",
    "* `j = 3` \n",
    "* `Output = 1 2 6 7 11 12` \n"
   ]
  },
  {
   "cell_type": "code",
   "execution_count": null,
   "metadata": {},
   "outputs": [],
   "source": [
    "# LinkedList Node class for your reference\n",
    "class Node:\n",
    "    def __init__(self, data):\n",
    "        self.data = data\n",
    "        self.next = None"
   ]
  },
  {
   "cell_type": "markdown",
   "metadata": {},
   "source": [
    "### Exercise - Write the function definition here"
   ]
  },
  {
   "cell_type": "code",
   "execution_count": null,
   "metadata": {},
   "outputs": [],
   "source": [
    "# Solution\n",
    "\"\"\"\n",
    ":param: head - head of linked list\n",
    ":param: i - first `i` nodes that are to be skipped\n",
    ":param: j - next `j` nodes that are to be deleted\n",
    "return - return the updated head of the linked list\n",
    "\"\"\"\n",
    "'''\n",
    "The Idea: \n",
    "Traverse the Linkedist. Make use of two references - `current` and `previous`.\n",
    " - Skip `i-1` nodes. Keep incrementing the `current`. Mark the `i-1`^th node as `previous`. \n",
    " - Delete next `j` nodes. Keep incrementing the `current`.\n",
    " - Connect the `previous.next` to the `current`\n",
    "'''\n",
    "def skip_i_delete_j(head, i, j):\n",
    "    # Edge case - Skip 0 nodes (means Delete all nodes)\n",
    "    if i == 0:\n",
    "        return None\n",
    "    \n",
    "    # Edge case - Delete 0 nodes\n",
    "    if j == 0:\n",
    "        return head\n",
    "    \n",
    "    # Invalid input\n",
    "    if head is None or j < 0 or i < 0:\n",
    "        return head\n",
    "\n",
    "    # Helper references\n",
    "    current = head\n",
    "    previous = None\n",
    "    \n",
    "    # Traverse - Loop untill there are Nodes available in the LinkedList\n",
    "    while current:\n",
    "        \n",
    "        '''skip (i - 1) nodes'''\n",
    "        for _ in range(i - 1):\n",
    "            if current is None:\n",
    "                return head\n",
    "            current = current.next\n",
    "        previous = current\n",
    "        current = current.next\n",
    "        \n",
    "        '''delete next j nodes'''\n",
    "        for _ in range(j):\n",
    "            if current is None:\n",
    "                break\n",
    "            next_node = current.next\n",
    "            current = next_node\n",
    "        \n",
    "        '''Connect the `previous.next` to the `current`''' \n",
    "        previous.next = current\n",
    "    \n",
    "    # Loop ends\n",
    "    \n",
    "    return head"
   ]
  },
  {
   "cell_type": "code",
   "execution_count": null,
   "metadata": {},
   "outputs": [],
   "source": [
    "# helper functions for testing purpose\n",
    "def create_linked_list(arr):\n",
    "    if len(arr)==0:\n",
    "        return None\n",
    "    head = Node(arr[0])\n",
    "    tail = head\n",
    "    for data in arr[1:]:\n",
    "        tail.next = Node(data)\n",
    "        tail = tail.next\n",
    "    return head\n",
    "\n",
    "def print_linked_list(head):\n",
    "    while head:\n",
    "        print(head.data, end=' ')\n",
    "        head = head.next\n",
    "    print()"
   ]
  },
  {
   "cell_type": "code",
   "execution_count": null,
   "metadata": {},
   "outputs": [],
   "source": [
    "def test_function(test_case):\n",
    "    head = test_case[0]\n",
    "    i = test_case[1]\n",
    "    j = test_case[2]\n",
    "    solution = test_case[3]\n",
    "        \n",
    "    temp = skip_i_delete_j(head, i, j)\n",
    "    index = 0\n",
    "    try:\n",
    "        while temp is not None:\n",
    "            if temp.data != solution[index]:\n",
    "                print(\"Fail\")\n",
    "                return\n",
    "            index += 1\n",
    "            temp = temp.next\n",
    "        print(\"Pass\")\n",
    "    except Exception as e:\n",
    "        print(\"Fail\")"
   ]
  },
  {
   "cell_type": "code",
   "execution_count": null,
   "metadata": {},
   "outputs": [],
   "source": [
    "arr = [1, 2, 3, 4, 5, 6, 7, 8, 9, 10, 11, 12]\n",
    "i = 2\n",
    "j = 2\n",
    "head = create_linked_list(arr)\n",
    "solution = [1, 2, 5, 6, 9, 10]\n",
    "test_case = [head, i, j, solution]\n",
    "test_function(test_case)"
   ]
  },
  {
   "cell_type": "code",
   "execution_count": null,
   "metadata": {},
   "outputs": [],
   "source": [
    "arr = [1, 2, 3, 4, 5, 6, 7, 8, 9, 10, 11, 12]\n",
    "i = 2\n",
    "j = 3\n",
    "head = create_linked_list(arr)\n",
    "solution = [1, 2, 6, 7, 11, 12]\n",
    "test_case = [head, i, j, solution]\n",
    "test_function(test_case)"
   ]
  },
  {
   "cell_type": "code",
   "execution_count": null,
   "metadata": {},
   "outputs": [],
   "source": [
    "arr = [1, 2, 3, 4, 5]\n",
    "i = 2\n",
    "j = 4\n",
    "head = create_linked_list(arr)\n",
    "solution = [1, 2]\n",
    "test_case = [head, i, j, solution]\n",
    "test_function(test_case)"
   ]
  },
  {
   "cell_type": "code",
   "execution_count": null,
   "metadata": {},
   "outputs": [],
   "source": [
    "arr = [1, 2, 3, 4, 5]\n",
    "i = 2\n",
    "j = 0\n",
    "head = create_linked_list(arr)\n",
    "solution = [1, 2, 3, 4, 5]\n",
    "test_case = [head, i, j, solution]\n",
    "test_function(test_case)"
   ]
  },
  {
   "cell_type": "markdown",
   "metadata": {},
   "source": [
    "## Problem Statement\n",
    "\n",
    "Given a linked list, swap the two nodes present at position `i` and `j`, assuming `0 <= i <= j`. The positions are based on 0-based indexing.\n",
    "\n",
    "**Note:** You have to swap the nodes and not just the values. \n",
    "\n",
    "**Example:**\n",
    "* `linked_list = 3 4 5 2 6 1 9`\n",
    "* `positions = 2 5`\n",
    "* `output = 3 4 1 2 6 5 9`\n",
    "\n",
    "**Explanation:** \n",
    "* The node at position 3 has the value `2`\n",
    "* The node at position 4 has the value `6`\n",
    "* Swapping these nodes will result in a final order of nodes of `3 4 5 6 2 1 9`"
   ]
  },
  {
   "cell_type": "code",
   "execution_count": null,
   "metadata": {},
   "outputs": [],
   "source": [
    "# Solution\n",
    "\"\"\"\n",
    ":param: head- head of input linked list\n",
    ":param: `position_one` - indicates position (index) ONE\n",
    ":param: `position_two` - indicates position (index) TWO\n",
    "return: head of updated linked list with nodes swapped\n",
    "\"\"\"\n",
    "def swap_nodes(head, position_one, position_two):\n",
    "\n",
    "    # If both the indices are same\n",
    "    if position_one == position_two:\n",
    "        return head\n",
    "    \n",
    "    # Helper references\n",
    "    one_previous = None\n",
    "    one_current = None\n",
    "\n",
    "    two_previous = None\n",
    "    two_current = None\n",
    "\n",
    "    current_index = 0\n",
    "    current_node = head \n",
    "    new_head = None\n",
    "\n",
    "    # LOOP - find out previous and current node at both the positions (indices)\n",
    "    while current_node is not None:\n",
    "        \n",
    "        # Position_one cannot be equal to position_two, \n",
    "        # so either one of them might be equal to the current_index\n",
    "        if current_index == position_one:\n",
    "            one_current = current_node\n",
    "        \n",
    "        elif current_index == position_two:\n",
    "            two_current = current_node\n",
    "            break\n",
    "\n",
    "        # If neither of the position_one or position_two are equal to the current_index\n",
    "        if one_current is None:\n",
    "            one_previous = current_node\n",
    "        \n",
    "        two_previous = current_node\n",
    "        \n",
    "        # increment both the current_index and current_node\n",
    "        current_node = current_node.next         \n",
    "        current_index += 1\n",
    "        \n",
    "\n",
    "    # Loop ends\n",
    "    \n",
    "    \n",
    "    '''SWAPPING LOGIC'''\n",
    "    # We have identified the two nodes: one_current & two_current to be swapped, \n",
    "    # Make use of a temporary reference to swap the references\n",
    "    two_previous.next = one_current\n",
    "    temp = one_current.next\n",
    "    one_current.next = two_current.next\n",
    "    two_current.next = temp\n",
    "    \n",
    "    # if the node at first index is head of the original linked list\n",
    "    if one_previous is None:\n",
    "        new_head = two_current\n",
    "    else:\n",
    "        one_previous.next = two_current\n",
    "        new_head = head\n",
    "    # Swapping logic ends\n",
    "    \n",
    "    return new_head"
   ]
  },
  {
   "cell_type": "markdown",
   "metadata": {},
   "source": [
    "### Test - Let's test your function"
   ]
  },
  {
   "cell_type": "code",
   "execution_count": null,
   "metadata": {},
   "outputs": [],
   "source": [
    "def test_function(test_case):\n",
    "    head = test_case[0]\n",
    "    left_index = test_case[1]\n",
    "    right_index = test_case[2]\n",
    "    \n",
    "    left_node = None\n",
    "    right_node = None\n",
    "    \n",
    "    temp = head\n",
    "    index = 0\n",
    "    try:\n",
    "        while temp is not None:\n",
    "            if index == left_index:\n",
    "                left_node = temp\n",
    "            if index == right_index:\n",
    "                right_node = temp\n",
    "                break\n",
    "            index += 1\n",
    "            temp = temp.next\n",
    "\n",
    "        updated_head = swap_nodes(head, left_index, right_index)\n",
    "\n",
    "        temp = updated_head\n",
    "        index = 0\n",
    "        pass_status = [False, False]\n",
    "\n",
    "        while temp is not None:\n",
    "            if index == left_index:\n",
    "                pass_status[0] = temp is right_node\n",
    "            if index == right_index:\n",
    "                pass_status[1] = temp is left_node\n",
    "\n",
    "            index += 1\n",
    "            temp = temp.next\n",
    "\n",
    "        if pass_status[0] and pass_status[1]:\n",
    "            print(\"Pass\")\n",
    "        else:\n",
    "            print(\"Fail\")\n",
    "        return updated_head\n",
    "    except Exception as e:\n",
    "        print(\"Fail\")"
   ]
  },
  {
   "cell_type": "code",
   "execution_count": null,
   "metadata": {},
   "outputs": [],
   "source": [
    "# helper functions for testing purpose\n",
    "def create_linked_list(arr):\n",
    "    if len(arr)==0:\n",
    "        return None\n",
    "    head = Node(arr[0])\n",
    "    tail = head\n",
    "    for data in arr[1:]:\n",
    "        tail.next = Node(data)\n",
    "        tail = tail.next\n",
    "    return head\n",
    "\n",
    "def print_linked_list(head):\n",
    "    while head:\n",
    "        print(head.data, end=\" \")\n",
    "        head = head.next\n",
    "    print()"
   ]
  },
  {
   "cell_type": "code",
   "execution_count": null,
   "metadata": {},
   "outputs": [],
   "source": [
    "arr = [3, 4, 5, 2, 6, 1, 9]\n",
    "head = create_linked_list(arr)\n",
    "left_index = 3\n",
    "right_index = 4\n",
    "\n",
    "test_case = [head, left_index, right_index]\n",
    "updated_head = test_function(test_case)"
   ]
  },
  {
   "cell_type": "code",
   "execution_count": null,
   "metadata": {},
   "outputs": [],
   "source": [
    "arr = [3, 4, 5, 2, 6, 1, 9]\n",
    "left_index = 2 \n",
    "right_index = 4\n",
    "head = create_linked_list(arr)\n",
    "test_case = [head, left_index, right_index]\n",
    "updated_head = test_function(test_case)"
   ]
  },
  {
   "cell_type": "code",
   "execution_count": null,
   "metadata": {},
   "outputs": [],
   "source": [
    "arr = [3, 4, 5, 2, 6, 1, 9]\n",
    "left_index = 0\n",
    "right_index = 1\n",
    "head = create_linked_list(arr)\n",
    "test_case = [head, left_index, right_index]\n",
    "updated_head = test_function(test_case)"
   ]
  },
  {
   "cell_type": "code",
   "execution_count": null,
   "metadata": {},
   "outputs": [],
   "source": []
  },
  {
   "cell_type": "code",
   "execution_count": null,
   "metadata": {},
   "outputs": [],
   "source": []
  },
  {
   "cell_type": "code",
   "execution_count": null,
   "metadata": {},
   "outputs": [],
   "source": []
  }
 ],
 "metadata": {
  "kernelspec": {
   "display_name": "Python 3",
   "language": "python",
   "name": "python3"
  },
  "language_info": {
   "codemirror_mode": {
    "name": "ipython",
    "version": 3
   },
   "file_extension": ".py",
   "mimetype": "text/x-python",
   "name": "python",
   "nbconvert_exporter": "python",
   "pygments_lexer": "ipython3",
   "version": "3.8.2"
  }
 },
 "nbformat": 4,
 "nbformat_minor": 5
}
