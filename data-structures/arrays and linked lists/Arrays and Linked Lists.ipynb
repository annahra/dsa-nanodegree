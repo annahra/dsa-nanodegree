{
 "cells": [
  {
   "cell_type": "markdown",
   "metadata": {},
   "source": [
    "# Arrays and Linked Lists"
   ]
  },
  {
   "cell_type": "markdown",
   "metadata": {},
   "source": [
    "### Properties of general lists\n",
    "* Have an **order**\n",
    "* Have **no fixed length**\n",
    "\n",
    "### Arrays (has order and fixed length)\n",
    "* Arrays have **indicies** (lists do not)\n",
    "* All elements of an array are contiguous meaning thtey all sit next to another in memory\n",
    "\n",
    "### Lists\n",
    "* Elements of a list may not be next to each other in memory\n",
    "* Cannot use indices to directly access the list items as we would in an array\n",
    "\n",
    "### Python Lists\n",
    "* If you were to look under the hood, you would find that a **Python list is essentially implemented like an array** (specifically, it behaves like a *dynamic array*, if you're curious). In particular, **the elements of a Python list are contiguous in memory, and they can be accessed using an index.**\n",
    "* In addition to the underlying array, a Python list also includes some additional behavior. For example, you can use things like pop and append methods on a Python list to add or remove items. **Using those methods, you can essentially utilize a Python list like a stack** (which is another type of data structure we'll discuss shortly)."
   ]
  },
  {
   "cell_type": "code",
   "execution_count": null,
   "metadata": {},
   "outputs": [],
   "source": []
  },
  {
   "cell_type": "code",
   "execution_count": null,
   "metadata": {},
   "outputs": [],
   "source": []
  },
  {
   "cell_type": "code",
   "execution_count": null,
   "metadata": {},
   "outputs": [],
   "source": []
  },
  {
   "cell_type": "code",
   "execution_count": null,
   "metadata": {},
   "outputs": [],
   "source": []
  }
 ],
 "metadata": {
  "kernelspec": {
   "display_name": "Python 3",
   "language": "python",
   "name": "python3"
  },
  "language_info": {
   "codemirror_mode": {
    "name": "ipython",
    "version": 3
   },
   "file_extension": ".py",
   "mimetype": "text/x-python",
   "name": "python",
   "nbconvert_exporter": "python",
   "pygments_lexer": "ipython3",
   "version": "3.8.2"
  }
 },
 "nbformat": 4,
 "nbformat_minor": 4
}
