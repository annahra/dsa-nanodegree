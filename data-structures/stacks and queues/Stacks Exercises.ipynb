{
 "cells": [
  {
   "cell_type": "markdown",
   "metadata": {},
   "source": [
    "# Balanced Parentheses Exercise"
   ]
  },
  {
   "cell_type": "markdown",
   "metadata": {},
   "source": [
    "In this exercise you are going to apply what you learned about stacks with a real world problem. We will be using stacks to make sure the parentheses are balanced in mathematical expressions such as: $((3^2 + 8)*(5/2))/(2+6).$ In real life you can see this extend to many things such as text editor plugins and interactive development environments for all sorts of bracket completion checks. \n",
    "\n",
    "Take a string as an input and return `True` if it's parentheses are balanced or `False` if it is not. \n",
    "\n",
    "Try to code up a solution and pass the test cases. "
   ]
  },
  {
   "cell_type": "markdown",
   "metadata": {},
   "source": [
    "#### Code"
   ]
  },
  {
   "cell_type": "code",
   "execution_count": null,
   "metadata": {},
   "outputs": [],
   "source": [
    "# Solution\n",
    "\n",
    "# Our Stack Class\n",
    "class Stack:\n",
    "    def __init__(self):\n",
    "        self.items = []\n",
    "\n",
    "    def size(self):\n",
    "        return len(self.items)\n",
    "\n",
    "    def push(self, item):\n",
    "        self.items.append(item)\n",
    "\n",
    "    def pop(self):\n",
    "        if self.size()==0:\n",
    "            return None\n",
    "        else:\n",
    "            return self.items.pop()\n",
    "\n",
    "\n",
    "def equation_checker(equation):\n",
    "    \"\"\"\n",
    "    Check equation for balanced parentheses\n",
    "\n",
    "    Args:\n",
    "       equation(string): String form of equation\n",
    "    Returns:\n",
    "       bool: Return if parentheses are balanced or not\n",
    "    \"\"\"\n",
    "    \n",
    "    stack = Stack()\n",
    "\n",
    "    for char in equation:\n",
    "        if char == \"(\":\n",
    "            stack.push(char)\n",
    "        elif char == \")\":\n",
    "            if stack.pop() == None:\n",
    "                return False\n",
    "\n",
    "    if stack.size() == 0:\n",
    "        return True\n",
    "    else:\n",
    "        return False\n",
    "\n",
    "\n",
    "print (\"Pass\" if (equation_checker('((3^2 + 8)*(5/2))/(2+6)')) else \"Fail\")\n",
    "print (\"Pass\" if not (equation_checker('((3^2 + 8)*(5/2))/(2+6))')) else \"Fail\")\n"
   ]
  },
  {
   "cell_type": "markdown",
   "metadata": {},
   "source": [
    "## Reverse Polish Notation\n",
    "\n",
    "**Reverse Polish notation**, also referred to as **Polish postfix notation** is a way of laying out operators and operands. \n",
    "\n",
    "When making mathematical expressions, we typically put arithmetic operators (like `+`, `-`, `*`, and `/`) *between* operands. For example: `5 + 7 - 3 * 8`\n",
    "\n",
    "However, in Reverse Polish Notation, the operators come *after* the operands. For example: `3 1 + 4 *`\n",
    "\n",
    "The above expression would be evaluated as `(3 + 1) * 4 = 16`\n",
    "\n",
    "The goal of this exercise is to create a function that does the following:\n",
    "* Given a *postfix* expression as input, evaluate and return the correct final answer. \n",
    "\n",
    "**Note**: In Python 3, the division operator `/` is used to perform float division. So for this problem, you should use `int()` after every division to convert the answer to an integer."
   ]
  },
  {
   "cell_type": "code",
   "execution_count": 5,
   "metadata": {},
   "outputs": [],
   "source": [
    "class LinkedListNode:\n",
    "\n",
    "    def __init__(self, data):\n",
    "        self.data = data\n",
    "        self.next = None\n",
    "\n",
    "class Stack:\n",
    "\n",
    "    def __init__(self):\n",
    "        self.num_elements = 0\n",
    "        self.head = None\n",
    "\n",
    "    def push(self, data):\n",
    "        new_node = LinkedListNode(data)\n",
    "        if self.head is None:\n",
    "            self.head = new_node\n",
    "        else:\n",
    "            new_node.next = self.head\n",
    "            self.head = new_node\n",
    "        self.num_elements += 1\n",
    "\n",
    "    def pop(self):\n",
    "        if self.is_empty():\n",
    "            return None\n",
    "        temp = self.head.data\n",
    "        self.head = self.head.next\n",
    "        self.num_elements -= 1\n",
    "        return temp\n",
    "\n",
    "    def top(self):\n",
    "        if self.head is None:\n",
    "            return None\n",
    "        return self.head.data\n",
    "\n",
    "    def size(self):\n",
    "        return self.num_elements\n",
    "\n",
    "    def is_empty(self):\n",
    "        return self.num_elements == 0\n"
   ]
  },
  {
   "cell_type": "code",
   "execution_count": 6,
   "metadata": {},
   "outputs": [],
   "source": [
    "def evaluate_post_fix(input_list):\n",
    "    stack = Stack()\n",
    "    for element in input_list:\n",
    "        if element == '*':\n",
    "            second = stack.pop()\n",
    "            first = stack.pop()\n",
    "            output = first * second\n",
    "            stack.push(output)\n",
    "        elif element == '/':\n",
    "            second = stack.pop()\n",
    "            first = stack.pop()\n",
    "            output = int(first / second)\n",
    "            stack.push(output)\n",
    "        elif element == '+':\n",
    "            second = stack.pop()\n",
    "            first = stack.pop()\n",
    "            output = first + second\n",
    "            stack.push(output)\n",
    "        elif element == '-':\n",
    "            second = stack.pop()\n",
    "            first = stack.pop()\n",
    "            output = first - second\n",
    "            stack.push(output)\n",
    "        else:\n",
    "            stack.push(int(element))\n",
    "    return stack.pop()\n",
    "\n"
   ]
  },
  {
   "cell_type": "code",
   "execution_count": 7,
   "metadata": {},
   "outputs": [],
   "source": [
    "def test_function(test_case):\n",
    "    output = evaluate_post_fix(test_case[0])\n",
    "    print(output)\n",
    "    if output == test_case[1]:\n",
    "        print(\"Pass\")\n",
    "    else:\n",
    "        print(\"Fail\")"
   ]
  },
  {
   "cell_type": "code",
   "execution_count": 8,
   "metadata": {},
   "outputs": [
    {
     "name": "stdout",
     "output_type": "stream",
     "text": [
      "16\n",
      "Pass\n"
     ]
    }
   ],
   "source": [
    "test_case_1 = [[\"3\", \"1\", \"+\", \"4\", \"*\"], 16]\n",
    "\n",
    "test_function(test_case_1)"
   ]
  },
  {
   "cell_type": "code",
   "execution_count": 9,
   "metadata": {},
   "outputs": [
    {
     "name": "stdout",
     "output_type": "stream",
     "text": [
      "6\n",
      "Pass\n"
     ]
    }
   ],
   "source": [
    "test_case_2 = [[\"4\", \"13\", \"5\", \"/\", \"+\"], 6]\n",
    "test_function(test_case_2)"
   ]
  },
  {
   "cell_type": "code",
   "execution_count": 10,
   "metadata": {},
   "outputs": [
    {
     "name": "stdout",
     "output_type": "stream",
     "text": [
      "22\n",
      "Pass\n"
     ]
    }
   ],
   "source": [
    "test_case_3 = [[\"10\", \"6\", \"9\", \"3\", \"+\", \"-11\", \"*\", \"/\", \"*\", \"17\", \"+\", \"5\", \"+\"], 22]\n",
    "test_function(test_case_3)"
   ]
  },
  {
   "cell_type": "markdown",
   "metadata": {},
   "source": [
    "### Problem Statement\n",
    "\n",
    "Reverse a stack. If your stack initially has `1, 2, 3, 4` (4 at the top and 1 at the bottom), after reversing the order must be `4, 3, 2, 1` (4 at the bottom and 1 at the top)."
   ]
  },
  {
   "cell_type": "code",
   "execution_count": null,
   "metadata": {},
   "outputs": [],
   "source": [
    "class LinkedListNode:\n",
    "\n",
    "    def __init__(self, data):\n",
    "        self.data = data\n",
    "        self.next = None\n",
    "\n",
    "class Stack:\n",
    "\n",
    "    def __init__(self):\n",
    "        self.num_elements = 0\n",
    "        self.head = None\n",
    "\n",
    "    def push(self, data):\n",
    "        new_node = LinkedListNode(data)\n",
    "        if self.head is None:\n",
    "            self.head = new_node\n",
    "        else:\n",
    "            new_node.next = self.head\n",
    "            self.head = new_node\n",
    "        self.num_elements += 1\n",
    "\n",
    "    def pop(self):\n",
    "        if self.is_empty():\n",
    "            return None\n",
    "        temp = self.head.data\n",
    "        self.head = self.head.next\n",
    "        self.num_elements -= 1\n",
    "        return temp\n",
    "\n",
    "    def top(self):\n",
    "        if self.head is None:\n",
    "            return None\n",
    "        return self.head.data\n",
    "\n",
    "    def size(self):\n",
    "        return self.num_elements\n",
    "\n",
    "    def is_empty(self):\n",
    "        return self.num_elements == 0\n"
   ]
  },
  {
   "cell_type": "code",
   "execution_count": null,
   "metadata": {},
   "outputs": [],
   "source": [
    "def reverse_stack(stack):\n",
    "    \"\"\"\n",
    "    Reverse a given input stack\n",
    "\n",
    "    Args:\n",
    "       stack(stack): Input stack to be reversed\n",
    "    Returns:\n",
    "       stack: Reversed Stack\n",
    "    \"\"\"\n",
    "    \n",
    "    # TODO: Write the reverse stack function\n",
    "    new_stack = Stack()\n",
    "    \n",
    "    while not stack.is_empty():\n",
    "        new_stack.push(stack.pop())\n",
    "    \n",
    "    return new_stack"
   ]
  },
  {
   "cell_type": "code",
   "execution_count": null,
   "metadata": {},
   "outputs": [],
   "source": [
    "def reverse_stack(stack):\n",
    "    holder_stack = Stack()\n",
    "    while not stack.is_empty():\n",
    "        popped_element = stack.pop()\n",
    "        holder_stack.push(popped_element)\n",
    "    _reverse_stack_recursion(stack, holder_stack)\n",
    "\n",
    "\n",
    "def _reverse_stack_recursion(stack, holder_stack):\n",
    "    if holder_stack.is_empty():\n",
    "        return\n",
    "    popped_element = holder_stack.pop()\n",
    "    _reverse_stack_recursion(stack, holder_stack)\n",
    "    stack.push(popped_element)\n"
   ]
  },
  {
   "cell_type": "code",
   "execution_count": null,
   "metadata": {},
   "outputs": [],
   "source": [
    "def test_function(test_case):\n",
    "    stack = Stack()\n",
    "    for num in test_case:\n",
    "        stack.push(num)\n",
    "    \n",
    "    reverse_stack(stack)\n",
    "    index = 0\n",
    "    while not stack.is_empty():\n",
    "        popped = stack.pop()\n",
    "        if popped != test_case[index]:\n",
    "            print(\"Fail\")\n",
    "            return\n",
    "        else:\n",
    "            index += 1\n",
    "    print(\"Pass\")\n",
    "    \n",
    "    "
   ]
  },
  {
   "cell_type": "code",
   "execution_count": null,
   "metadata": {},
   "outputs": [],
   "source": [
    "test_case_1 = [1, 2, 3, 4]\n",
    "test_function(test_case_1)"
   ]
  },
  {
   "cell_type": "code",
   "execution_count": null,
   "metadata": {},
   "outputs": [],
   "source": [
    "test_case_2 = [1]\n",
    "test_function(test_case_2)"
   ]
  },
  {
   "cell_type": "markdown",
   "metadata": {},
   "source": [
    "### Problem Statement\n",
    "\n",
    "Given an input string consisting of only `{` and `}`, figure out the minimum number of reversals required to make the brackets balanced.\n",
    "\n",
    "For example:\n",
    "* For `input_string = \"}}}}`, the number of reversals required is `2`.\n",
    "\n",
    "\n",
    "* For `input_string = \"}{}}`, the number of reversals required is `1`.\n",
    "\n",
    "\n",
    "If the brackets cannot be balanced, return `-1` to indicate that it is not possible to balance them."
   ]
  },
  {
   "cell_type": "code",
   "execution_count": null,
   "metadata": {},
   "outputs": [],
   "source": [
    "class LinkedListNode:\n",
    "\n",
    "    def __init__(self, data):\n",
    "        self.data = data\n",
    "        self.next = None\n",
    "\n",
    "class Stack:\n",
    "\n",
    "    def __init__(self):\n",
    "        self.num_elements = 0\n",
    "        self.head = None\n",
    "\n",
    "    def push(self, data):\n",
    "        new_node = LinkedListNode(data)\n",
    "        if self.head is None:\n",
    "            self.head = new_node\n",
    "        else:\n",
    "            new_node.next = self.head\n",
    "            self.head = new_node\n",
    "        self.num_elements += 1\n",
    "\n",
    "    def pop(self):\n",
    "        if self.is_empty():\n",
    "            return None\n",
    "        temp = self.head.data\n",
    "        self.head = self.head.next\n",
    "        self.num_elements -= 1\n",
    "        return temp\n",
    "\n",
    "    def top(self):\n",
    "        if self.head is None:\n",
    "            return None\n",
    "        return self.head.data\n",
    "\n",
    "    def size(self):\n",
    "        return self.num_elements\n",
    "\n",
    "    def is_empty(self):\n",
    "        return self.num_elements == 0\n"
   ]
  },
  {
   "cell_type": "code",
   "execution_count": null,
   "metadata": {},
   "outputs": [],
   "source": []
  },
  {
   "cell_type": "code",
   "execution_count": null,
   "metadata": {},
   "outputs": [],
   "source": [
    "def test_function(test_case):\n",
    "    input_string = test_case[0]\n",
    "    expected_output = test_case[1]\n",
    "    output = minimum_bracket_reversals(input_string)\n",
    "    \n",
    "    if output == expected_output:\n",
    "        print(\"Pass\")\n",
    "    else:\n",
    "        print(\"Fail\")\n"
   ]
  },
  {
   "cell_type": "code",
   "execution_count": null,
   "metadata": {},
   "outputs": [],
   "source": [
    "test_case_1 = [\"}}}}\", 2]\n",
    "test_function(test_case_1)"
   ]
  },
  {
   "cell_type": "code",
   "execution_count": null,
   "metadata": {},
   "outputs": [],
   "source": [
    "test_case_2 = [\"}}{{\", 2]          \n",
    "test_function(test_case_2)"
   ]
  },
  {
   "cell_type": "code",
   "execution_count": null,
   "metadata": {},
   "outputs": [],
   "source": [
    "test_case_3 = [\"{{{{{{{{{{{{{{{{{{{{{{{{{{{{{{{}}}}}\", 13]\n",
    "\n",
    "test_function(test_case_1)"
   ]
  },
  {
   "cell_type": "code",
   "execution_count": null,
   "metadata": {},
   "outputs": [],
   "source": [
    "test_case_4= [\"}{}{}{}{}{}{}{}{}{}{}{}{}{}{}{\", 2]\n",
    "test_function(test_case_2)"
   ]
  },
  {
   "cell_type": "code",
   "execution_count": null,
   "metadata": {},
   "outputs": [],
   "source": [
    "test_case_5 = [\"}}{}{}{}{}{}{}{}{}{}{}{}{}{}{}\", 1]\n",
    "\n",
    "test_function(test_case_3)"
   ]
  },
  {
   "cell_type": "code",
   "execution_count": null,
   "metadata": {},
   "outputs": [],
   "source": []
  },
  {
   "cell_type": "code",
   "execution_count": null,
   "metadata": {},
   "outputs": [],
   "source": []
  },
  {
   "cell_type": "code",
   "execution_count": null,
   "metadata": {},
   "outputs": [],
   "source": []
  }
 ],
 "metadata": {
  "kernelspec": {
   "display_name": "Python 3",
   "language": "python",
   "name": "python3"
  },
  "language_info": {
   "codemirror_mode": {
    "name": "ipython",
    "version": 3
   },
   "file_extension": ".py",
   "mimetype": "text/x-python",
   "name": "python",
   "nbconvert_exporter": "python",
   "pygments_lexer": "ipython3",
   "version": "3.8.2"
  }
 },
 "nbformat": 4,
 "nbformat_minor": 4
}
