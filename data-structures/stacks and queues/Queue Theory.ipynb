{
 "cells": [
  {
   "cell_type": "markdown",
   "id": "advanced-mitchell",
   "metadata": {},
   "source": [
    "# Implement a queue using an array\n",
    "\n",
    "In this notebook, we'll look at one way to implement a queue by using an array. First, check out the walkthrough for an overview of the concepts, and then we'll take a look at the code."
   ]
  },
  {
   "cell_type": "markdown",
   "id": "continental-accounting",
   "metadata": {},
   "source": [
    "## Functionality\n",
    "\n",
    "Once implemented, our queue will need to have the following functionality:\n",
    "1. `enqueue`  - adds data to the back of the queue\n",
    "2. `dequeue`  - removes data from the front of the queue\n",
    "3. `front`    - returns the element at the front of the queue\n",
    "4. `size`     - returns the number of elements present in the queue\n",
    "5. `is_empty` - returns `True` if there are no elements in the queue, and `False` otherwise\n",
    "6. `_handle_full_capacity` - increases the capacity of the array, for cases in which the queue would otherwise overflow\n",
    "\n",
    "Also, if the queue is empty, `dequeue` and `front` operations should return `None`."
   ]
  },
  {
   "cell_type": "markdown",
   "id": "exposed-motel",
   "metadata": {},
   "source": [
    "## 1. Create the `queue` class and its `__init__` method"
   ]
  },
  {
   "cell_type": "code",
   "execution_count": null,
   "id": "sunset-experiment",
   "metadata": {},
   "outputs": [],
   "source": [
    "class Queue:\n",
    "    def __init__(self, initial_size = 10):\n",
    "        self.arr = [0 for _ in range(initial_size)]\n",
    "        self.next_index = 0\n",
    "        self.front_index = -1\n",
    "        self.queue_size = 0"
   ]
  },
  {
   "cell_type": "code",
   "execution_count": null,
   "id": "inappropriate-being",
   "metadata": {},
   "outputs": [],
   "source": [
    "q = Queue()\n",
    "print(q.arr)\n",
    "print(\"Pass\" if q.arr == [0, 0, 0, 0, 0, 0, 0, 0, 0, 0] else \"Fail\")"
   ]
  },
  {
   "cell_type": "markdown",
   "id": "generous-ambassador",
   "metadata": {},
   "source": [
    "## 2. Add the `enqueue` method\n",
    "In the cell below, add the code for the enqueue method.\n",
    "\n",
    "The method should:\n",
    "* Take a value as input and assign this value to the next free slot in the array\n",
    "* Increment `queue_size`\n",
    "* Increment `next_index` (this is where you'll need to use the modulo operator `%`)\n",
    "* If the front index is `-1` (because the queue was empty), it should set the front index to `0`"
   ]
  },
  {
   "cell_type": "code",
   "execution_count": null,
   "id": "quarterly-departure",
   "metadata": {},
   "outputs": [],
   "source": [
    "class Queue:\n",
    "\n",
    "    def __init__(self, initial_size=10):\n",
    "        self.arr = [0 for _ in range(initial_size)]\n",
    "        self.next_index = 0\n",
    "        self.front_index = -1\n",
    "        self.queue_size = 0\n",
    "\n",
    "    def enqueue(self, value):\n",
    "        # enqueue new element\n",
    "        self.arr[self.next_index] = value\n",
    "        self.queue_size += 1\n",
    "        self.next_index = (self.next_index + 1) % len(self.arr)\n",
    "        if self.front_index == -1:\n",
    "            self.front_index = 0"
   ]
  },
  {
   "cell_type": "markdown",
   "id": "endless-strike",
   "metadata": {},
   "source": [
    "## 3. Add the `size`,  `is_empty`, and `front` methods\n",
    "\n",
    "Just like with stacks, we need methods to keep track of the size of the queue and whether it is empty. We can also add a `front` method that returns the value of the front element.\n",
    "* Add a `size` method that returns the current size of the queue\n",
    "* Add an `is_empty` method that returns `True` if the queue is empty and `False` otherwise\n",
    "* Add a `front` method that returns the value for the front element (whatever item is located at the `front_index` position). If the queue is empty, the `front` method should return None."
   ]
  },
  {
   "cell_type": "code",
   "execution_count": null,
   "id": "wound-grove",
   "metadata": {},
   "outputs": [],
   "source": [
    "class Queue:\n",
    "\n",
    "    def __init__(self, initial_size=10):\n",
    "        self.arr = [0 for _ in range(initial_size)]\n",
    "        self.next_index = 0\n",
    "        self.front_index = -1\n",
    "        self.queue_size = 0\n",
    "\n",
    "    def enqueue(self, value):\n",
    "        # enqueue new element\n",
    "        self.arr[self.next_index] = value\n",
    "        self.queue_size += 1\n",
    "        self.next_index = (self.next_index + 1) % len(self.arr)\n",
    "        if self.front_index == -1:\n",
    "            self.front_index = 0\n",
    "\n",
    "    def size(self):\n",
    "        return self.queue_size\n",
    "\n",
    "    def is_empty(self):\n",
    "        return self.size() == 0\n",
    "    \n",
    "    def front(self):\n",
    "        # check if queue is empty\n",
    "        if self.is_empty():\n",
    "            return None\n",
    "        return self.arr[self.front_index]"
   ]
  },
  {
   "cell_type": "markdown",
   "id": "absent-oriental",
   "metadata": {},
   "source": [
    "## 4. Add the `dequeue` method\n",
    "In the cell below, see if you can add the `deqeueue` method.\n",
    "\n",
    "Here's what it should do:\n",
    "* If the queue is empty, reset the `front_index` and `next_index` and then simply return `None`. Otherwise...\n",
    "* Get the value from the front of the queue and store this in a local variable (to `return` later)\n",
    "* Shift the `head` over so that it refers to the next index\n",
    "* Update the `queue_size` attribute\n",
    "* Return the value that was dequeued"
   ]
  },
  {
   "cell_type": "code",
   "execution_count": null,
   "id": "departmental-thomas",
   "metadata": {},
   "outputs": [],
   "source": [
    "class Queue:\n",
    "\n",
    "    def __init__(self, initial_size=10):\n",
    "        self.arr = [0 for _ in range(initial_size)]\n",
    "        self.next_index = 0\n",
    "        self.front_index = -1\n",
    "        self.queue_size = 0\n",
    "\n",
    "    def enqueue(self, value):\n",
    "        # enqueue new element\n",
    "        self.arr[self.next_index] = value\n",
    "        self.queue_size += 1\n",
    "        self.next_index = (self.next_index + 1) % len(self.arr)\n",
    "        if self.front_index == -1:\n",
    "            self.front_index = 0\n",
    "            \n",
    "    def dequeue(self):\n",
    "        # check if queue is empty\n",
    "        if self.is_empty():\n",
    "            self.front_index = -1   # resetting pointers\n",
    "            self.next_index = 0\n",
    "            return None\n",
    "\n",
    "        # dequeue front element\n",
    "        value = self.arr[self.front_index]\n",
    "        self.front_index = (self.front_index + 1) % len(self.arr)\n",
    "        self.queue_size -= 1\n",
    "        return value\n",
    "\n",
    "    def size(self):\n",
    "        return self.queue_size\n",
    "\n",
    "    def is_empty(self):\n",
    "        return self.size() == 0\n",
    "    \n",
    "    def front(self):\n",
    "        # check if queue is empty\n",
    "        if self.is_empty():\n",
    "            return None\n",
    "        return self.arr[self.front_index]"
   ]
  },
  {
   "cell_type": "markdown",
   "id": "provincial-picking",
   "metadata": {},
   "source": [
    "## 5. Add the `_handle_queue_capacity_full` method\n",
    "First, define the `_handle_queue_capacity_full` method:\n",
    "* Define an `old_arr` variable and assign the the current (full) array so that we have a copy of it\n",
    "* Create a new (larger) array and assign it to `arr`.\n",
    "* Iterate over the values in the old array and copy them to the new array. Remember that you'll need two `for` loops for this.\n",
    "\n",
    "Then, in the `enqueue` method:\n",
    "* Add a conditional to check if the queue is full; if it is, call  `_handle_queue_capacity_full`"
   ]
  },
  {
   "cell_type": "code",
   "execution_count": null,
   "id": "bridal-drama",
   "metadata": {},
   "outputs": [],
   "source": [
    "class Queue:\n",
    "\n",
    "    def __init__(self, initial_size=10):\n",
    "        self.arr = [0 for _ in range(initial_size)]\n",
    "        self.next_index = 0\n",
    "        self.front_index = -1\n",
    "        self.queue_size = 0\n",
    "\n",
    "    def enqueue(self, value):\n",
    "        if self.queue_size == len(self.arr):\n",
    "            self._handle_queue_capacity_full()\n",
    "\n",
    "\n",
    "        # enqueue new element\n",
    "        self.arr[self.next_index] = value\n",
    "        self.queue_size += 1\n",
    "        self.next_index = (self.next_index + 1) % len(self.arr)\n",
    "        if self.front_index == -1:\n",
    "            self.front_index = 0\n",
    "\n",
    "    def dequeue(self):\n",
    "        # check if queue is empty\n",
    "        if self.is_empty():\n",
    "            self.front_index = -1   # resetting pointers\n",
    "            self.next_index = 0\n",
    "            return None\n",
    "\n",
    "        # dequeue front element\n",
    "        value = self.arr[self.front_index]\n",
    "        self.front_index = (self.front_index + 1) % len(self.arr)\n",
    "        self.queue_size -= 1\n",
    "        return value\n",
    "\n",
    "    def size(self):\n",
    "        return self.queue_size\n",
    "\n",
    "    def is_empty(self):\n",
    "        return self.size() == 0\n",
    "    \n",
    "    def front(self):\n",
    "        # check if queue is empty\n",
    "        if self.is_empty():\n",
    "            return None\n",
    "        return self.arr[self.front_index]\n",
    "\n",
    "     def _handle_queue_capacity_full(self):\n",
    "        old_arr = self.arr\n",
    "        self.arr = [0 for _ in range(2 * len(old_arr))]\n",
    "\n",
    "        index = 0\n",
    "\n",
    "        # copy all elements from front of queue (front-index) until end\n",
    "        for i in range(self.front_index, len(old_arr)):\n",
    "            self.arr[index] = old_arr[i]\n",
    "            index += 1\n",
    "\n",
    "        # case: when front-index is ahead of next index\n",
    "        for i in range(0, self.front_index):\n",
    "            self.arr[index] = old_arr[i]\n",
    "            index += 1\n",
    "\n",
    "        # reset pointers\n",
    "        self.front_index = 0\n",
    "        self.next_index = index\n"
   ]
  },
  {
   "cell_type": "markdown",
   "id": "comic-accessory",
   "metadata": {},
   "source": [
    "# Build a queue using a linked list\n",
    "\n",
    "By now, you may be noticing a pattern. Earlier, we had you implement a stack using an array and a linked list. Here, we're doing the same thing with queues: In the previous notebook, you implemented a queue using an array, and in this notebook we'll implement one using a linked list.\n",
    "\n",
    "It's good to try implementing the same data structures in multiple ways. This helps you to better understand the abstract concepts behind the data structure, separate from the details of their implementation—and it also helps you develop a habit of comparing pros and cons of different implementations.\n",
    "\n",
    "With both stack and queues, we saw that trying to use arrays introduced some concerns regarding the time complexity, particularly when the initial array size isn't large enough and we need to expand the array in order to add more items.\n",
    "\n",
    "With our stack implementation, we saw that linked lists provided a way around this issue—and exactly the same thing is true with queues."
   ]
  },
  {
   "cell_type": "markdown",
   "id": "municipal-chemical",
   "metadata": {},
   "source": [
    "## 1. Define a `Node` class\n",
    "Since we'll be implementing a linked list for this, we know that we'll need a `Node` class like we used earlier in this lesson.\n",
    "\n",
    "See if you can remember how to do this, and implement it in the cell below."
   ]
  },
  {
   "cell_type": "code",
   "execution_count": null,
   "id": "boring-buying",
   "metadata": {},
   "outputs": [],
   "source": [
    "class Node:\n",
    "    def __init__(self, value):\n",
    "        self.value = value\n",
    "        self.next = None"
   ]
  },
  {
   "cell_type": "markdown",
   "id": "seeing-enterprise",
   "metadata": {},
   "source": [
    "## 2. Create the `Queue` class and its `__init__` method\n",
    "\n",
    "In the cell below, see if you can write the `__init__` method for our `Queue` class. It will need three attributes:\n",
    "* A `head` attribute to keep track of the first node in the linked list\n",
    "* A `tail` attribute to keep track of the last node in the linked list\n",
    "* A `num_elements` attribute to keep track of how many items are in the stack"
   ]
  },
  {
   "cell_type": "code",
   "execution_count": null,
   "id": "structural-jimmy",
   "metadata": {},
   "outputs": [],
   "source": [
    "class Queue:\n",
    "    def __init__(self):\n",
    "        self.head = None\n",
    "        self.tail = None\n",
    "        self.num_elements = 0"
   ]
  },
  {
   "cell_type": "markdown",
   "id": "normal-attachment",
   "metadata": {},
   "source": [
    "## 3. Add the `enqueue` method\n",
    "\n",
    "In the cell below, see if you can figure out how to write the `enqueue` method.\n",
    "\n",
    "Remember, the purpose of this method is to add a new item to the back of the queue. Since we're using a linked list, this is equivalent to creating a new node and adding it to the tail of the list.\n",
    "\n",
    "Some things to keep in mind:\n",
    "* If the queue is empty, then both the `head` and `tail` should refer to the new node (because when there's only one node, this node is both the head and the tail)\n",
    "* Otherwise (if the queue has items), add the new node to the tail (i.e., to the end of the queue)\n",
    "* Be sure to shift the `tail` reference so that it refers to the new node (because it is the new tail)"
   ]
  },
  {
   "cell_type": "code",
   "execution_count": null,
   "id": "suspected-chaos",
   "metadata": {},
   "outputs": [],
   "source": [
    "class Queue:\n",
    "    \n",
    "    def __init__(self):\n",
    "        self.head = None\n",
    "        self.tail = None\n",
    "        self.num_elements = 0\n",
    "        \n",
    "    def enqueue(self, value):\n",
    "        new_node = Node(value)\n",
    "        if self.head is None:\n",
    "            self.head = new_node\n",
    "            self.tail = self.head\n",
    "        else:\n",
    "            self.tail.next = new_node    # add data to the next attribute of the tail (i.e. the end of the queue)\n",
    "            self.tail = self.tail.next   # shift the tail (i.e., the back of the queue)\n",
    "        self.num_elements += 1"
   ]
  },
  {
   "cell_type": "markdown",
   "id": "anticipated-python",
   "metadata": {},
   "source": [
    "## 4. Add the `size` and `is_empty` methods\n",
    "\n",
    "You've implemented these a couple of times now, and they'll work the same way here:\n",
    "* Add a `size` method that returns the current size of the stack\n",
    "* Add an `is_empty` method that returns `True` if the stack is empty and `False` otherwise\n",
    "\n",
    "We'll make use of these methods in a moment when we write the `dequeue` method."
   ]
  },
  {
   "cell_type": "code",
   "execution_count": null,
   "id": "oriental-rwanda",
   "metadata": {},
   "outputs": [],
   "source": [
    "class Queue:\n",
    "    \n",
    "    def __init__(self):\n",
    "        self.head = None\n",
    "        self.tail = None\n",
    "        self.num_elements = 0\n",
    "        \n",
    "    def enqueue(self, value):\n",
    "        new_node = Node(value)\n",
    "        if self.head is None:\n",
    "            self.head = new_node\n",
    "            self.tail = self.head\n",
    "        else:\n",
    "            self.tail.next = new_node    # add data to the next attribute of the tail (i.e. the end of the queue)\n",
    "            self.tail = self.tail.next   # shift the tail (i.e., the back of the queue)\n",
    "        self.num_elements += 1\n",
    "    \n",
    "    def size(self):\n",
    "        return self.num_elements\n",
    "    \n",
    "    def is_empty(self):\n",
    "        return self.num_elements == 0"
   ]
  },
  {
   "cell_type": "markdown",
   "id": "paperback-directive",
   "metadata": {},
   "source": [
    "## 5. Add the `dequeue` method\n",
    "\n",
    "In the cell below, see if you can add the `deqeueue` method.\n",
    "\n",
    "Here's what it should do:\n",
    "* If the queue is empty, it should simply return `None`. Otherwise...\n",
    "* Get the value from the front of the queue (i.e., the head of the linked list)\n",
    "* Shift the `head` over so that it refers to the next node\n",
    "* Update the `num_elements` attribute\n",
    "* Return the value that was dequeued\n",
    "    "
   ]
  },
  {
   "cell_type": "code",
   "execution_count": null,
   "id": "cooked-actor",
   "metadata": {},
   "outputs": [],
   "source": [
    "class Queue:\n",
    "    \n",
    "    def __init__(self):\n",
    "        self.head = None\n",
    "        self.tail = None\n",
    "        self.num_elements = 0\n",
    "        \n",
    "    def enqueue(self, value):\n",
    "        new_node = Node(value)\n",
    "        if self.head is None:\n",
    "            self.head = new_node\n",
    "            self.tail = self.head\n",
    "        else:\n",
    "            self.tail.next = new_node    # add data to the next attribute of the tail (i.e. the end of the queue)\n",
    "            self.tail = self.tail.next   # shift the tail (i.e., the back of the queue)\n",
    "        self.num_elements += 1\n",
    "            \n",
    "    # Add the dequeue method\n",
    "    def dequeue(self):\n",
    "        if self.is_empty():\n",
    "            self.head = None\n",
    "            self.tail = None\n",
    "            return None\n",
    "        value = self.head.value\n",
    "        self.head = self.head.next\n",
    "        self.num_elements -= 1\n",
    "        return value\n",
    "    \n",
    "    def size(self):\n",
    "        return self.num_elements\n",
    "    \n",
    "    def is_empty(self):\n",
    "        return self.num_elements == 0\n",
    "        "
   ]
  },
  {
   "cell_type": "code",
   "execution_count": null,
   "id": "scientific-research",
   "metadata": {},
   "outputs": [],
   "source": [
    "# Setup\n",
    "q = Queue()\n",
    "q.enqueue(1)\n",
    "q.enqueue(2)\n",
    "q.enqueue(3)\n",
    "\n",
    "# Test size\n",
    "print (\"Pass\" if (q.size() == 3) else \"Fail\")\n",
    "\n",
    "# Test dequeue\n",
    "print (\"Pass\" if (q.dequeue() == 1) else \"Fail\")\n",
    "\n",
    "# Test enqueue\n",
    "q.enqueue(4)\n",
    "print (\"Pass\" if (q.dequeue() == 2) else \"Fail\")\n",
    "print (\"Pass\" if (q.dequeue() == 3) else \"Fail\")\n",
    "print (\"Pass\" if (q.dequeue() == 4) else \"Fail\")\n",
    "q.enqueue(5)\n",
    "print (\"Pass\" if (q.size() == 1) else \"Fail\")"
   ]
  },
  {
   "cell_type": "markdown",
   "id": "owned-window",
   "metadata": {},
   "source": [
    "## Time Complexity\n",
    "\n",
    "So what's the time complexity of adding or removing things from our queue here?\n",
    "\n",
    "Well, when we use `enqueue`, we simply create a new node and add it to the tail of the list. And when we `dequeue` an item, we simply get the value from the head of the list and then shift the `head` variable so that it refers to the next node over.\n",
    "\n",
    "Both of these operations happen in constant time—that is, they have a time-complexity of O(1)."
   ]
  },
  {
   "cell_type": "code",
   "execution_count": null,
   "id": "moral-marker",
   "metadata": {},
   "outputs": [],
   "source": []
  },
  {
   "cell_type": "code",
   "execution_count": null,
   "id": "helpful-animation",
   "metadata": {},
   "outputs": [],
   "source": []
  },
  {
   "cell_type": "code",
   "execution_count": null,
   "id": "utility-restaurant",
   "metadata": {},
   "outputs": [],
   "source": []
  },
  {
   "cell_type": "code",
   "execution_count": null,
   "id": "naughty-semester",
   "metadata": {},
   "outputs": [],
   "source": []
  },
  {
   "cell_type": "code",
   "execution_count": null,
   "id": "congressional-given",
   "metadata": {},
   "outputs": [],
   "source": []
  },
  {
   "cell_type": "code",
   "execution_count": null,
   "id": "fewer-childhood",
   "metadata": {},
   "outputs": [],
   "source": []
  },
  {
   "cell_type": "code",
   "execution_count": null,
   "id": "meaningful-drilling",
   "metadata": {},
   "outputs": [],
   "source": []
  },
  {
   "cell_type": "code",
   "execution_count": null,
   "id": "rising-liberty",
   "metadata": {},
   "outputs": [],
   "source": []
  },
  {
   "cell_type": "code",
   "execution_count": null,
   "id": "answering-enlargement",
   "metadata": {},
   "outputs": [],
   "source": []
  }
 ],
 "metadata": {
  "kernelspec": {
   "display_name": "Python 3",
   "language": "python",
   "name": "python3"
  },
  "language_info": {
   "codemirror_mode": {
    "name": "ipython",
    "version": 3
   },
   "file_extension": ".py",
   "mimetype": "text/x-python",
   "name": "python",
   "nbconvert_exporter": "python",
   "pygments_lexer": "ipython3",
   "version": "3.8.5"
  }
 },
 "nbformat": 4,
 "nbformat_minor": 5
}
