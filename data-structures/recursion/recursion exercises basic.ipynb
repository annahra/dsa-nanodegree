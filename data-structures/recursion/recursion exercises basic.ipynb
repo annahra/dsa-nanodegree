{
 "cells": [
  {
   "cell_type": "markdown",
   "id": "danish-worse",
   "metadata": {},
   "source": [
    "# Factorial using recursion"
   ]
  },
  {
   "cell_type": "markdown",
   "id": "living-consensus",
   "metadata": {},
   "source": [
    "The **factorial** function is a mathematical function that multiplies a given number, $n$, and all of the whole numbers from $n$ down to 1.\n",
    "\n",
    "For example, if $n$ is $4$ then we will get:\n",
    "\n",
    "$4*3*2*1 = 24$\n",
    "\n",
    "This is often notated using an exclamation point, as in $4!$ (which would be read as \"four factorial\").\n",
    "\n",
    "So $4! = 4*3*2*1 = 24$\n",
    "\n",
    "More generally, we can say that for any input $n$:\n",
    "\n",
    "$n! = n * (n-1) * (n-2) ... 1$\n",
    "\n",
    "If you look at this more closely, you will find that the factorial of any number is the product of that number and the factorial of the next smallest number. In other words:\n",
    "\n",
    "$n! = n*(n-1)!$\n",
    "\n",
    "Notice that this is recursive, meaning that we can solve for the factorial of any given number by first solving for the factorial of the next smallest number, and the next smallest number, and the next smallest number, and so on, until we reach 1.\n",
    "\n",
    "If you were to write a Python function called `factorial` to calculate the factorial of a number, then we could restate what we said above as follows:\n",
    "\n",
    "`factorial(n) = n * factorial(n-1)`\n",
    "\n",
    "So that is the goal of this exercise: To use recursion to write a function that will take a number and return the factorial of that number.\n",
    "\n",
    "For example, you should be able to call your function with `factorial(4)` and get back `24`.\n",
    "\n",
    "**Note:** By definition, $0! = 1$"
   ]
  },
  {
   "cell_type": "code",
   "execution_count": null,
   "id": "mounted-honey",
   "metadata": {},
   "outputs": [],
   "source": [
    "# Solution\n",
    "\n",
    "def factorial(n):\n",
    "    \"\"\"\n",
    "    Calculate n!\n",
    "\n",
    "    Args:\n",
    "       n(int): factorial to be computed\n",
    "    Returns:\n",
    "       n!\n",
    "    \"\"\"\n",
    "\n",
    "\tif n == 0:\n",
    "        return 1  # by definition of 0!\n",
    "    return n * factorial(n-1)\n",
    "\n",
    "print (\"Pass\" if (1 == factorial(0)) else \"Fail\")\n",
    "print (\"Pass\" if  (1 == factorial(1)) else \"Fail\")\n",
    "print (\"Pass\" if  (120 == factorial(5)) else \"Fail\")"
   ]
  },
  {
   "cell_type": "markdown",
   "id": "arbitrary-indian",
   "metadata": {},
   "source": [
    "# Reversing a String"
   ]
  },
  {
   "cell_type": "markdown",
   "id": "minimal-edmonton",
   "metadata": {},
   "source": [
    "The goal in this notebook will be to get practice with a problem that is frequently solved by recursion: Reversing a string.\n",
    "\n",
    "Note that Python has a built-in function that you could use for this, but the goal here is to avoid that and understand how it can be done using recursion instead."
   ]
  },
  {
   "cell_type": "markdown",
   "id": "split-wheel",
   "metadata": {},
   "source": [
    "### Exercise - Write the function definition here"
   ]
  },
  {
   "cell_type": "code",
   "execution_count": 3,
   "id": "corporate-guinea",
   "metadata": {},
   "outputs": [
    {
     "name": "stdout",
     "output_type": "stream",
     "text": [
      "Pass\n",
      "Pass\n"
     ]
    }
   ],
   "source": [
    "def reverse_string(input):\n",
    "    \"\"\"\n",
    "    Return reversed input string\n",
    "    \n",
    "    Examples:\n",
    "       reverse_string(\"abc\") returns \"cba\"\n",
    "    \n",
    "    Args:\n",
    "      input(str): string to be reversed\n",
    "    \n",
    "    Returns:\n",
    "      a string that is the reverse of input\n",
    "    \"\"\"\n",
    "    \n",
    "    # TODO: Write your recursive string reverser solution here\n",
    "    if len(input) == 0:\n",
    "        return input\n",
    "    output = helper(input,len(input)-1)\n",
    "    return output\n",
    "\n",
    "def helper(input, index):\n",
    "    if index <= 0:\n",
    "        return input[index]\n",
    "    return input[index] + helper(input, index - 1)\n",
    "\n",
    "# Test Cases\n",
    "    \n",
    "print (\"Pass\" if  (\"\" == reverse_string(\"\")) else \"Fail\")\n",
    "print (\"Pass\" if  (\"cba\" == reverse_string(\"abc\")) else \"Fail\")"
   ]
  },
  {
   "cell_type": "code",
   "execution_count": null,
   "id": "republican-liberty",
   "metadata": {},
   "outputs": [],
   "source": [
    "# Solution\n",
    "\"\"\"\n",
    "RECURSIVE FUNCTION\n",
    "Args: input(str): string to be reversed\n",
    "Returns: a string that us reversed of input\n",
    "\"\"\"\n",
    "def reverse_string(input):\n",
    "    \n",
    "    # (Recursion) Termination condition / Base condition\n",
    "    if len(input) == 0:\n",
    "        return \"\"\n",
    "\n",
    "    else:\n",
    "        first_char = input[0]\n",
    "        \n",
    "        '''\n",
    "        The `slice()` function can accept upto the following three arguments.\n",
    "        - start: [OPTIONAL] starting index. Default value is 0.\n",
    "        - stop: ending index (exclusive)\n",
    "        - step_size: [OPTIONAL] the increment size. Default value is 1.\n",
    "        \n",
    "        The return type of `slice()` function is an object of class 'slice'. \n",
    "        '''\n",
    "        the_rest = slice(1, None)     # `the_rest` is an object of type 'slice' class\n",
    "        sub_string = input[the_rest]  # convert the `slice` object into a list\n",
    "        \n",
    "        # Recursive call\n",
    "        reversed_substring = reverse_string(sub_string)\n",
    "        \n",
    "        return reversed_substring + first_char\n",
    "#-------------------------------------------------#\n",
    "'''\n",
    "**Time and Space Complexity Analysis**\n",
    "Each recursive call to the `reverse_string()` function will create \n",
    "a new set of local variables - first_char, the_rest, sub_string, and reversed_substring. \n",
    "Therefore, the space complexity of a recursive function would always be proportional to the \n",
    "maximum depth of recursion stack.  \n",
    "The time complexity for this function will be  O(k*n), where k is a constant and n is the \n",
    "number of characters in the string (depth of recursion stack). \n",
    "'''"
   ]
  },
  {
   "cell_type": "markdown",
   "id": "liquid-empty",
   "metadata": {},
   "source": [
    "# Palindrome"
   ]
  },
  {
   "cell_type": "markdown",
   "id": "colonial-pointer",
   "metadata": {},
   "source": [
    "A **palindrome** is a word that is the reverse of itself—that is, it is the same word when read forwards and backwards.\n",
    "\n",
    "For example:\n",
    "*  \"madam\" is a palindrome\n",
    "* \"abba\" is a palindrome\n",
    "*  \"cat\" is not\n",
    "*  \"a\" is a trivial case of a palindrome\n",
    "\n",
    "The goal of this exercise is to use recursion to write a function `is_palindrome` that takes a string as input and checks whether that string is a palindrome. (Note that this problem can also be solved with a non-recursive solution, but that's not the point of this exercise.)"
   ]
  },
  {
   "cell_type": "code",
   "execution_count": null,
   "id": "skilled-thompson",
   "metadata": {},
   "outputs": [],
   "source": [
    "def is_palindrome(input):\n",
    "    \"\"\"\n",
    "    Return True if input is palindrome, False otherwise.\n",
    "    \n",
    "    Args:\n",
    "       input(str): input to be checked if it is palindrome\n",
    "    \"\"\"\n",
    "    \n",
    "    # TODO: Write your recursive palindrome checker here\n",
    "    if len(input) <= 1:\n",
    "        return True\n",
    "    reversed_string = helper(input, len(input) - 1)\n",
    "    return input == reversed_string\n",
    "\n",
    "def helper(input, index):\n",
    "    if index <= 0:\n",
    "        return input[index]\n",
    "    return input[index] + helper(input, index - 1)\n",
    "\n",
    "# Test Cases\n",
    "\n",
    "print (\"Pass\" if  (is_palindrome(\"\")) else \"Fail\")\n",
    "print (\"Pass\" if  (is_palindrome(\"a\")) else \"Fail\")\n",
    "print (\"Pass\" if  (is_palindrome(\"madam\")) else \"Fail\")\n",
    "print (\"Pass\" if  (is_palindrome(\"abba\")) else \"Fail\")\n",
    "print (\"Pass\" if not (is_palindrome(\"Udacity\")) else \"Fail\")"
   ]
  },
  {
   "cell_type": "code",
   "execution_count": null,
   "id": "recreational-lightweight",
   "metadata": {},
   "outputs": [],
   "source": [
    "# Solution\n",
    "\n",
    "def is_palindrome(input):\n",
    "    \"\"\"\n",
    "    Return True if input is palindrome, False otherwise.\n",
    "\n",
    "    Args:\n",
    "       input(str): input to be checked if it is palindrome\n",
    "    \"\"\"\n",
    "    \n",
    "    # Termination / Base condition\n",
    "    if len(input) <= 1:\n",
    "        return True\n",
    "    else:\n",
    "        first_char = input[0]\n",
    "        last_char = input[-1]\n",
    "\n",
    "        # sub_input is input with first and last char removed\n",
    "        sub_input = input[1:-1]\n",
    "\n",
    "        # recursive call, if first and last char are identical, else return False\n",
    "        return (first_char == last_char) and is_palindrome(sub_input)\n",
    "\n",
    "print (\"Pass\" if  (is_palindrome(\"\")) else \"Fail\")\n",
    "print (\"Pass\" if  (is_palindrome(\"a\")) else \"Fail\")\n",
    "print (\"Pass\" if  (is_palindrome(\"madam\")) else \"Fail\")\n",
    "print (\"Pass\" if  (is_palindrome(\"abba\")) else \"Fail\")\n",
    "print (\"Pass\" if not (is_palindrome(\"Udacity\")) else \"Fail\")\n"
   ]
  },
  {
   "cell_type": "code",
   "execution_count": null,
   "id": "fancy-winning",
   "metadata": {},
   "outputs": [],
   "source": []
  },
  {
   "cell_type": "code",
   "execution_count": null,
   "id": "intensive-cabin",
   "metadata": {},
   "outputs": [],
   "source": []
  },
  {
   "cell_type": "code",
   "execution_count": null,
   "id": "subsequent-actor",
   "metadata": {},
   "outputs": [],
   "source": []
  },
  {
   "cell_type": "code",
   "execution_count": null,
   "id": "intellectual-checkout",
   "metadata": {},
   "outputs": [],
   "source": []
  },
  {
   "cell_type": "code",
   "execution_count": null,
   "id": "empty-pledge",
   "metadata": {},
   "outputs": [],
   "source": []
  },
  {
   "cell_type": "code",
   "execution_count": null,
   "id": "voluntary-scratch",
   "metadata": {},
   "outputs": [],
   "source": []
  },
  {
   "cell_type": "code",
   "execution_count": null,
   "id": "improved-battlefield",
   "metadata": {},
   "outputs": [],
   "source": []
  },
  {
   "cell_type": "code",
   "execution_count": null,
   "id": "foster-caribbean",
   "metadata": {},
   "outputs": [],
   "source": []
  },
  {
   "cell_type": "code",
   "execution_count": null,
   "id": "neither-eleven",
   "metadata": {},
   "outputs": [],
   "source": []
  },
  {
   "cell_type": "code",
   "execution_count": null,
   "id": "finnish-korean",
   "metadata": {},
   "outputs": [],
   "source": []
  },
  {
   "cell_type": "code",
   "execution_count": null,
   "id": "black-administrator",
   "metadata": {},
   "outputs": [],
   "source": []
  },
  {
   "cell_type": "code",
   "execution_count": null,
   "id": "lesser-feeding",
   "metadata": {},
   "outputs": [],
   "source": []
  }
 ],
 "metadata": {
  "kernelspec": {
   "display_name": "Python 3",
   "language": "python",
   "name": "python3"
  },
  "language_info": {
   "codemirror_mode": {
    "name": "ipython",
    "version": 3
   },
   "file_extension": ".py",
   "mimetype": "text/x-python",
   "name": "python",
   "nbconvert_exporter": "python",
   "pygments_lexer": "ipython3",
   "version": "3.8.5"
  }
 },
 "nbformat": 4,
 "nbformat_minor": 5
}
