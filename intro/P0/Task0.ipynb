{
 "cells": [
  {
   "cell_type": "code",
   "execution_count": 15,
   "id": "immune-going",
   "metadata": {},
   "outputs": [],
   "source": [
    "\"\"\"\n",
    "Read file into texts and calls.\n",
    "It's ok if you don't understand how to read files.\n",
    "\"\"\"\n",
    "import csv\n",
    "with open('texts.csv', 'r') as f:\n",
    "    reader = csv.reader(f)\n",
    "    texts = list(reader)\n",
    "\n",
    "with open('calls.csv', 'r') as f:\n",
    "    reader = csv.reader(f)\n",
    "    calls = list(reader)\n",
    "\n",
    "\"\"\"\n",
    "TASK 0:\n",
    "What is the first record of texts and what is the last record of calls?\n",
    "Print messages:\n",
    "\"First record of texts, <incoming number> texts <answering number> at time <time>\"\n",
    "\"Last record of calls, <incoming number> calls <answering number> at time <time>, lasting <during> seconds\"\n",
    "\"\"\"\n",
    "\n",
    "\n",
    "\"\"\"\n",
    "Run Time Analysis:\n",
    "\n",
    "getFirstTextRecord: No matter how big the list of texts get, we are always only looking for the first\n",
    "text in the array. This means that this function does not rely on the number inputs, which makes the\n",
    "Worst Case Big-O runtime O(1), i.e. constant.\n",
    "\n",
    "getLastCallRecord: No matter how big the list of calls get, we are always only looking for the last\n",
    "call in the array. This means that this function does not rely on the number inputs, which makes the\n",
    "Worst Case Big-O runtime O(1), i.e. constant.\n",
    "\"\"\"\n",
    "\n",
    "\n",
    "\n",
    "def getFirstTextRecord(texts):\n",
    "    print(f\"First record of texts, {texts[0][0]} texts {texts[0][1]} at time {texts[0][2][-8:]}\")\n",
    "\n",
    "def getLastCallRecord(calls):\n",
    "    numOfCalls = len(calls)\n",
    "    print(f\"Last record of calls, {calls[numOfCalls - 1][0]} calls {calls[numOfCalls - 1][1]}, lasting {calls[numOfCalls - 1][3]} seconds\")\n",
    "\n",
    "\n"
   ]
  },
  {
   "cell_type": "code",
   "execution_count": 16,
   "id": "rolled-camel",
   "metadata": {},
   "outputs": [
    {
     "name": "stdout",
     "output_type": "stream",
     "text": [
      "First record of texts, 97424 22395 texts 90365 06212 at time 06:03:22\n",
      "Last record of calls, 98447 62998 calls (080)46304537, lasting 2151 seconds\n"
     ]
    }
   ],
   "source": [
    "getFirstTextRecord(texts)\n",
    "getLastCallRecord(calls)"
   ]
  },
  {
   "cell_type": "code",
   "execution_count": null,
   "id": "handled-acoustic",
   "metadata": {},
   "outputs": [],
   "source": []
  }
 ],
 "metadata": {
  "kernelspec": {
   "display_name": "Python 3",
   "language": "python",
   "name": "python3"
  },
  "language_info": {
   "codemirror_mode": {
    "name": "ipython",
    "version": 3
   },
   "file_extension": ".py",
   "mimetype": "text/x-python",
   "name": "python",
   "nbconvert_exporter": "python",
   "pygments_lexer": "ipython3",
   "version": "3.8.5"
  }
 },
 "nbformat": 4,
 "nbformat_minor": 5
}
