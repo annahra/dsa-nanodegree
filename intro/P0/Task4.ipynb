{
 "cells": [
  {
   "cell_type": "code",
   "execution_count": 8,
   "id": "lovely-biodiversity",
   "metadata": {},
   "outputs": [
    {
     "name": "stdout",
     "output_type": "stream",
     "text": [
      "These numbers could be telemarketers:\n",
      "(022)37572285\n",
      "(022)65548497\n",
      "(022)68535788\n",
      "(022)69042431\n",
      "(040)30429041\n",
      "(044)22020822\n",
      "(0471)2171438\n",
      "(0471)6579079\n",
      "(080)20383942\n",
      "(080)25820765\n",
      "(080)31606520\n",
      "(080)40362016\n",
      "(080)60463379\n",
      "(080)60998034\n",
      "(080)62963633\n",
      "(080)64015211\n",
      "(080)69887826\n",
      "(0821)3257740\n",
      "1400481538\n",
      "1401747654\n",
      "1402316533\n",
      "1403072432\n",
      "1403579926\n",
      "1404073047\n",
      "1404368883\n",
      "1404787681\n",
      "1407539117\n",
      "1408371942\n",
      "1408409918\n",
      "1408672243\n",
      "1409421631\n",
      "1409668775\n",
      "1409994233\n",
      "74064 66270\n",
      "78291 94593\n",
      "87144 55014\n",
      "90351 90193\n",
      "92414 69419\n",
      "94495 03761\n",
      "97404 30456\n",
      "97407 84573\n",
      "97442 45192\n",
      "99617 25274\n"
     ]
    }
   ],
   "source": [
    "\"\"\"\n",
    "Read file into texts and calls.\n",
    "It's ok if you don't understand how to read files.\n",
    "\"\"\"\n",
    "import csv\n",
    "\n",
    "with open('texts.csv', 'r') as f:\n",
    "    reader = csv.reader(f)\n",
    "    texts = list(reader)\n",
    "\n",
    "with open('calls.csv', 'r') as f:\n",
    "    reader = csv.reader(f)\n",
    "    calls = list(reader)\n",
    "\n",
    "\"\"\"\n",
    "TASK 4:\n",
    "The telephone company want to identify numbers that might be doing\n",
    "telephone marketing. Create a set of possible telemarketers:\n",
    "these are numbers that make outgoing calls but never send texts,\n",
    "receive texts or receive incoming calls.\n",
    "\n",
    "Print a message:\n",
    "\"These numbers could be telemarketers: \"\n",
    "<list of numbers>\n",
    "The list of numbers should be print out one per line in lexicographic order with no duplicates.\n",
    "\"\"\"\n",
    "\n",
    "def findTeleMarketers(calls, texts):\n",
    "    notTelemarketers = set()\n",
    "    telemarketers = set()\n",
    "    for text in texts:\n",
    "        notTelemarketers.add(text[0])\n",
    "        notTelemarketers.add(text[1])\n",
    "    for call in calls:\n",
    "        notTelemarketers.add(call[1])\n",
    "    for call in calls:\n",
    "        if not call[0] in notTelemarketers:\n",
    "            telemarketers.add(call[0])\n",
    "    print(\"These numbers could be telemarketers:\")\n",
    "    for num in sorted(telemarketers):\n",
    "        print(num)\n",
    "\n",
    "findTeleMarketers(calls, texts)"
   ]
  },
  {
   "cell_type": "code",
   "execution_count": 2,
   "id": "experimental-dynamics",
   "metadata": {},
   "outputs": [
    {
     "name": "stdout",
     "output_type": "stream",
     "text": [
      "hello\n"
     ]
    }
   ],
   "source": [
    "print('hello')"
   ]
  },
  {
   "cell_type": "code",
   "execution_count": null,
   "id": "mounted-bones",
   "metadata": {},
   "outputs": [],
   "source": []
  }
 ],
 "metadata": {
  "kernelspec": {
   "display_name": "Python 3",
   "language": "python",
   "name": "python3"
  },
  "language_info": {
   "codemirror_mode": {
    "name": "ipython",
    "version": 3
   },
   "file_extension": ".py",
   "mimetype": "text/x-python",
   "name": "python",
   "nbconvert_exporter": "python",
   "pygments_lexer": "ipython3",
   "version": "3.8.5"
  }
 },
 "nbformat": 4,
 "nbformat_minor": 5
}
