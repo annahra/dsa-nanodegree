{
 "cells": [
  {
   "cell_type": "code",
   "execution_count": 10,
   "metadata": {},
   "outputs": [
    {
     "name": "stdout",
     "output_type": "stream",
     "text": [
      "(080)33251027 spent the longest time, 90456 seconds, on the phone during September 2016\n"
     ]
    }
   ],
   "source": [
    "\"\"\"\n",
    "Read file into texts and calls.\n",
    "It's ok if you don't understand how to read files\n",
    "\"\"\"\n",
    "import csv\n",
    "with open('texts.csv', 'r') as f:\n",
    "    reader = csv.reader(f)\n",
    "    texts = list(reader)\n",
    "\n",
    "with open('calls.csv', 'r') as f:\n",
    "    reader = csv.reader(f)\n",
    "    calls = list(reader)\n",
    "\n",
    "\"\"\"\n",
    "TASK 2: Which telephone number spent the longest time on the phone\n",
    "during the period? Don't forget that time spent answering a call is\n",
    "also time spent on the phone.\n",
    "Print a message:\n",
    "\"<telephone number> spent the longest time, <total time> seconds, on the phone during \n",
    "September 2016.\".\n",
    "\"\"\"\n",
    "\n",
    "\"\"\"\n",
    "Run time Analysis:\n",
    "\n",
    "getLongestCallDuration:\n",
    "I iterate through the array of calls, O(c), while inside I lookup/insert/add values to a dictionary. \n",
    "These operations are constant O(1) for a dictionary, and therefore my runtime is O(c) or O(n),\n",
    "where n=c= number of calls in the array\n",
    "\"\"\"\n",
    "\n",
    "def getLongestCallDuration(calls):\n",
    "    phoneRecords = {}\n",
    "    for call in calls:\n",
    "        currDuration = int(call[3])\n",
    "        if call[0] in phoneRecords:\n",
    "            phoneRecords[call[0]] += currDuration\n",
    "        else:\n",
    "            phoneRecords[call[0]] = currDuration\n",
    "        if call[1] in phoneRecords:\n",
    "            phoneRecords[call[1]] += currDuration\n",
    "        else:\n",
    "            phoneRecords[call[1]] = currDuration\n",
    "    maxDuration = max(phoneRecords.values())\n",
    "    phoneNum = max(phoneRecords, key=phoneRecords.get)\n",
    "    print(f\"{phoneNum} spent the longest time, {maxDuration} seconds, on the phone during September 2016\")\n",
    "\n",
    "getLongestCallDuration(calls)"
   ]
  },
  {
   "cell_type": "code",
   "execution_count": 6,
   "metadata": {},
   "outputs": [],
   "source": [
    "def getLongestCallDuration(calls):\n",
    "    phoneRecords = {}\n",
    "    for call in calls:\n",
    "        currDuration = int(call[3])\n",
    "        if call[0] in phoneRecords:\n",
    "            phoneRecords[call[0]] += currDuration\n",
    "        else:\n",
    "            phoneRecords[call[0]] = currDuration\n",
    "        if call[1] in phoneRecords:\n",
    "            phoneRecords[call[1]] += currDuration\n",
    "        else:\n",
    "            phoneRecords[call[1]] = currDuration\n",
    "    maxDuration = 0\n",
    "    phoneNum = ''\n",
    "    for currPhoneNum in phoneRecords:\n",
    "        currDuration = int(phoneRecords[currPhoneNum])\n",
    "        if currDuration > maxDuration:\n",
    "            maxDuration = currDuration\n",
    "            phoneNum = currPhoneNum\n",
    "    print(f\"{phoneNum} spent the longest time, {maxDuration} seconds, on the phone during September 2016\")\n",
    "    \n",
    "\"(080)33251027 spent the longest time, 90456 seconds, on the phone during September 2016\""
   ]
  },
  {
   "cell_type": "code",
   "execution_count": null,
   "metadata": {},
   "outputs": [],
   "source": []
  }
 ],
 "metadata": {
  "kernelspec": {
   "display_name": "Python 3",
   "language": "python",
   "name": "python3"
  },
  "language_info": {
   "codemirror_mode": {
    "name": "ipython",
    "version": 3
   },
   "file_extension": ".py",
   "mimetype": "text/x-python",
   "name": "python",
   "nbconvert_exporter": "python",
   "pygments_lexer": "ipython3",
   "version": "3.8.2"
  }
 },
 "nbformat": 4,
 "nbformat_minor": 5
}
