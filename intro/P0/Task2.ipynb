{
 "cells": [
  {
   "cell_type": "code",
   "execution_count": 4,
   "id": "important-section",
   "metadata": {},
   "outputs": [
    {
     "name": "stdout",
     "output_type": "stream",
     "text": [
      "(080)33251027 spent the longest time, 90456 seconds, on the phone during September 2016\n"
     ]
    }
   ],
   "source": [
    "\"\"\"\n",
    "Read file into texts and calls.\n",
    "It's ok if you don't understand how to read files\n",
    "\"\"\"\n",
    "import csv\n",
    "with open('texts.csv', 'r') as f:\n",
    "    reader = csv.reader(f)\n",
    "    texts = list(reader)\n",
    "\n",
    "with open('calls.csv', 'r') as f:\n",
    "    reader = csv.reader(f)\n",
    "    calls = list(reader)\n",
    "\n",
    "\"\"\"\n",
    "TASK 2: Which telephone number spent the longest time on the phone\n",
    "during the period? Don't forget that time spent answering a call is\n",
    "also time spent on the phone.\n",
    "Print a message:\n",
    "\"<telephone number> spent the longest time, <total time> seconds, on the phone during \n",
    "September 2016.\".\n",
    "\"\"\"\n",
    "\n",
    "\"\"\"\n",
    "Run time Analysis:\n",
    "\n",
    "getLongestCallDuration:\n",
    "I iterate through the array of calls, O(c), while inside I lookup/insert/add values to a dictionary. \n",
    "These operations are constant O(1) for a dictionary, and therefore my runtime is O(c),\n",
    "where c is the number of calls in the array.\n",
    "\"\"\"\n",
    "\n",
    "def getLongestCallDuration(calls):\n",
    "    phoneRecords = {}\n",
    "    for call in calls:\n",
    "        currDuration = int(call[3])\n",
    "        phoneRecords[call[0]] = phoneRecords.get(call[0], 0) + currDuration\n",
    "        phoneRecords[call[1]] = phoneRecords.get(call[1], 0) + currDuration\n",
    "    maxDuration = max(phoneRecords.values())\n",
    "    phoneNum = max(phoneRecords, key=phoneRecords.get)\n",
    "    print(f\"{phoneNum} spent the longest time, {maxDuration} seconds, on the phone during September 2016\")\n",
    "\n",
    "getLongestCallDuration(calls)"
   ]
  },
  {
   "cell_type": "code",
   "execution_count": 6,
   "id": "stuck-cardiff",
   "metadata": {},
   "outputs": [],
   "source": [
    "def getLongestCallDuration(calls):\n",
    "    phoneRecords = {}\n",
    "    for call in calls:\n",
    "        currDuration = int(call[3])\n",
    "        if call[0] in phoneRecords:\n",
    "            phoneRecords[call[0]] += currDuration\n",
    "        else:\n",
    "            phoneRecords[call[0]] = currDuration\n",
    "        if call[1] in phoneRecords:\n",
    "            phoneRecords[call[1]] += currDuration\n",
    "        else:\n",
    "            phoneRecords[call[1]] = currDuration\n",
    "    maxDuration = 0\n",
    "    phoneNum = ''\n",
    "    for currPhoneNum in phoneRecords:\n",
    "        currDuration = int(phoneRecords[currPhoneNum])\n",
    "        if currDuration > maxDuration:\n",
    "            maxDuration = currDuration\n",
    "            phoneNum = currPhoneNum\n",
    "    print(f\"{phoneNum} spent the longest time, {maxDuration} seconds, on the phone during September 2016\")\n",
    "    \n",
    "\"(080)33251027 spent the longest time, 90456 seconds, on the phone during September 2016\""
   ]
  },
  {
   "cell_type": "code",
   "execution_count": 1,
   "id": "antique-discretion",
   "metadata": {},
   "outputs": [
    {
     "ename": "NameError",
     "evalue": "name 'calls' is not defined",
     "output_type": "error",
     "traceback": [
      "\u001b[1;31m---------------------------------------------------------------------------\u001b[0m",
      "\u001b[1;31mNameError\u001b[0m                                 Traceback (most recent call last)",
      "\u001b[1;32m<ipython-input-1-7830751bdb75>\u001b[0m in \u001b[0;36m<module>\u001b[1;34m\u001b[0m\n\u001b[0;32m     15\u001b[0m     \u001b[0mprint\u001b[0m\u001b[1;33m(\u001b[0m\u001b[1;34mf\"{phoneNum} spent the longest time, {maxDuration} seconds, on the phone during September 2016\"\u001b[0m\u001b[1;33m)\u001b[0m\u001b[1;33m\u001b[0m\u001b[1;33m\u001b[0m\u001b[0m\n\u001b[0;32m     16\u001b[0m \u001b[1;33m\u001b[0m\u001b[0m\n\u001b[1;32m---> 17\u001b[1;33m \u001b[0mgetLongestCallDuration\u001b[0m\u001b[1;33m(\u001b[0m\u001b[0mcalls\u001b[0m\u001b[1;33m)\u001b[0m\u001b[1;33m\u001b[0m\u001b[1;33m\u001b[0m\u001b[0m\n\u001b[0m",
      "\u001b[1;31mNameError\u001b[0m: name 'calls' is not defined"
     ]
    }
   ],
   "source": [
    "def getLongestCallDuration(calls):\n",
    "    phoneRecords = {}\n",
    "    for call in calls:\n",
    "        currDuration = int(call[3])\n",
    "        if call[0] in phoneRecords:\n",
    "            phoneRecords[call[0]] += currDuration\n",
    "        else:\n",
    "            phoneRecords[call[0]] = currDuration\n",
    "        if call[1] in phoneRecords:\n",
    "            phoneRecords[call[1]] += currDuration\n",
    "        else:\n",
    "            phoneRecords[call[1]] = currDuration\n",
    "    maxDuration = max(phoneRecords.values())\n",
    "    phoneNum = max(phoneRecords, key=phoneRecords.get)\n",
    "    print(f\"{phoneNum} spent the longest time, {maxDuration} seconds, on the phone during September 2016\")\n",
    "\n",
    "getLongestCallDuration(calls)"
   ]
  },
  {
   "cell_type": "code",
   "execution_count": null,
   "id": "excessive-daughter",
   "metadata": {},
   "outputs": [],
   "source": []
  }
 ],
 "metadata": {
  "kernelspec": {
   "display_name": "Python 3",
   "language": "python",
   "name": "python3"
  },
  "language_info": {
   "codemirror_mode": {
    "name": "ipython",
    "version": 3
   },
   "file_extension": ".py",
   "mimetype": "text/x-python",
   "name": "python",
   "nbconvert_exporter": "python",
   "pygments_lexer": "ipython3",
   "version": "3.8.5"
  }
 },
 "nbformat": 4,
 "nbformat_minor": 5
}
