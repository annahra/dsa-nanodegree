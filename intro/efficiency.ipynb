{
 "cells": [
  {
   "cell_type": "markdown",
   "id": "decimal-boxing",
   "metadata": {},
   "source": [
    "# Big O Notation"
   ]
  },
  {
   "cell_type": "markdown",
   "id": "identified-quick",
   "metadata": {},
   "source": [
    "One of the main goals of this lesson is to help you develop your ability to look at some code and identify its time complexity—and then describe this time complexity using Big O notation.\n",
    "\n",
    "We will use this graph as a referece and reminder of the importance of the run time of an algorithm. We have the number of inputs (n) on the X axis and the the number of operations required (N) on the Y axis.\n",
    "\n",
    "<img src=\"./assets/bigo.svg\" alt=\"Drawing\" style=\"width: 400px;\"/>\n",
    "\n",
    "[\"Comparison of computational complexity\"](https://commons.wikimedia.org/wiki/File:Comparison_computational_complexity.svg) by Cmglee. Used under [CC BY-SA 4.0](https://creativecommons.org/licenses/by-sa/4.0/deed.en)."
   ]
  },
  {
   "cell_type": "markdown",
   "id": "presidential-venue",
   "metadata": {},
   "source": [
    "#### Quadratic Example"
   ]
  },
  {
   "cell_type": "code",
   "execution_count": 3,
   "id": "historic-raleigh",
   "metadata": {},
   "outputs": [
    {
     "name": "stdout",
     "output_type": "stream",
     "text": [
      "Items: 1, 1\n",
      "Items: 1, 2\n",
      "Items: 1, 3\n",
      "Items: 1, 4\n",
      "Items: 2, 1\n",
      "Items: 2, 2\n",
      "Items: 2, 3\n",
      "Items: 2, 4\n",
      "Items: 3, 1\n",
      "Items: 3, 2\n",
      "Items: 3, 3\n",
      "Items: 3, 4\n",
      "Items: 4, 1\n",
      "Items: 4, 2\n",
      "Items: 4, 3\n",
      "Items: 4, 4\n",
      "Wall time: 0 ns\n"
     ]
    }
   ],
   "source": [
    "# O(n^2)\n",
    "\n",
    "def Quad_Example(our_list):\n",
    "    for first_loop_item in our_list:\n",
    "        for second_loop_item in our_list:\n",
    "            print (\"Items: {}, {}\".format(first_loop_item,second_loop_item))\n",
    "            \n",
    "            \n",
    "Quad_Example([1,2,3,4])\n",
    "\n",
    "%time"
   ]
  },
  {
   "cell_type": "markdown",
   "id": "million-murray",
   "metadata": {},
   "source": [
    "#### Log Linear Example "
   ]
  },
  {
   "cell_type": "code",
   "execution_count": 4,
   "id": "statutory-alabama",
   "metadata": {},
   "outputs": [
    {
     "name": "stdout",
     "output_type": "stream",
     "text": [
      "Wall time: 0 ns\n"
     ]
    }
   ],
   "source": [
    "# O(nlogn)\n",
    "\n",
    "# Don't worry about how this algorithm works, we will cover it later in the course!\n",
    "\n",
    "def Log_Linear_Example(our_list):\n",
    "    \n",
    "    if len(our_list) < 2:\n",
    "        return our_list\n",
    "    \n",
    "    else:\n",
    "        mid = len(our_list)//2\n",
    "        left = our_list[:mid]\n",
    "        right = our_list[mid:]\n",
    "\n",
    "        Log_Linear_Example(left)\n",
    "        Log_Linear_Example(right)\n",
    "\n",
    "        i = 0\n",
    "        j = 0\n",
    "        k = 0\n",
    "\n",
    "        while i < len(left) and j < len(right):\n",
    "            if left[i] < right[j]:\n",
    "                our_list[k]=left[i]\n",
    "                i+=1\n",
    "            else:\n",
    "                our_list[k]=right[j]\n",
    "                j+=1\n",
    "            k+=1\n",
    "\n",
    "        while i < len(left):\n",
    "            our_list[k]=left[i]\n",
    "            i+=1\n",
    "            k+=1\n",
    "\n",
    "        while j < len(right):\n",
    "            our_list[k]=right[j]\n",
    "            j+=1\n",
    "            k+=1\n",
    "        \n",
    "        return our_list\n",
    "\n",
    "Log_Linear_Example([56,23,11,90,65,4,35,65,84,12,4,0])\n",
    "\n",
    "%time"
   ]
  },
  {
   "cell_type": "markdown",
   "id": "incorporate-eagle",
   "metadata": {},
   "source": [
    "#### Linear Example"
   ]
  },
  {
   "cell_type": "code",
   "execution_count": 5,
   "id": "comfortable-arthur",
   "metadata": {},
   "outputs": [
    {
     "name": "stdout",
     "output_type": "stream",
     "text": [
      "Item: 1\n",
      "Item: 2\n",
      "Item: 3\n",
      "Item: 4\n",
      "Wall time: 0 ns\n"
     ]
    }
   ],
   "source": [
    "# O(n)\n",
    "\n",
    "def Linear_Example(our_list):\n",
    "    for item in our_list:\n",
    "        print (\"Item: {}\".format(item))\n",
    "\n",
    "Linear_Example([1,2,3,4])\n",
    "\n",
    "%time"
   ]
  },
  {
   "cell_type": "markdown",
   "id": "peaceful-bennett",
   "metadata": {},
   "source": [
    "#### Logarithmic Example"
   ]
  },
  {
   "cell_type": "code",
   "execution_count": 6,
   "id": "leading-canvas",
   "metadata": {},
   "outputs": [
    {
     "name": "stdout",
     "output_type": "stream",
     "text": [
      "Wall time: 0 ns\n"
     ]
    }
   ],
   "source": [
    "# O(logn)\n",
    "\n",
    "def Logarithmic_Example(number):\n",
    "    if number == 0: \n",
    "        return 0\n",
    "    \n",
    "    elif number == 1: \n",
    "        return 1\n",
    "    \n",
    "    else: \n",
    "        return Logarithmic_Example(number-1)+Logarithmic_Example(number-2)\n",
    "\n",
    "    \n",
    "Logarithmic_Example(29)\n",
    "\n",
    "%time"
   ]
  },
  {
   "cell_type": "markdown",
   "id": "vanilla-asthma",
   "metadata": {},
   "source": [
    "#### Constant Example"
   ]
  },
  {
   "cell_type": "code",
   "execution_count": 7,
   "id": "liquid-assistant",
   "metadata": {},
   "outputs": [
    {
     "name": "stdout",
     "output_type": "stream",
     "text": [
      "Wall time: 0 ns\n"
     ]
    }
   ],
   "source": [
    "# O(1)\n",
    "\n",
    "def Constant_Example(our_list):\n",
    "    return our_list.pop()\n",
    "\n",
    "Constant_Example([1,2,3,4])\n",
    "\n",
    "%time"
   ]
  },
  {
   "cell_type": "markdown",
   "id": "traditional-flashing",
   "metadata": {},
   "source": [
    "## Resources"
   ]
  },
  {
   "cell_type": "markdown",
   "id": "enhanced-sacramento",
   "metadata": {},
   "source": [
    "Big O notation: https://www.bigocheatsheet.com/ \n",
    "\n",
    "Python Time Complexity: https://wiki.python.org/moin/TimeComplexity"
   ]
  },
  {
   "cell_type": "markdown",
   "id": "critical-mills",
   "metadata": {},
   "source": [
    "Type \tStorage size\n",
    "\n",
    "char \t1 byte\n",
    "\n",
    "bool \t1 byte\n",
    "\n",
    "int \t4 bytes\n",
    "\n",
    "float \t4 bytes\n",
    "\n",
    "double \t8 bytes"
   ]
  },
  {
   "cell_type": "code",
   "execution_count": null,
   "id": "moving-costume",
   "metadata": {},
   "outputs": [],
   "source": []
  }
 ],
 "metadata": {
  "kernelspec": {
   "display_name": "Python 3",
   "language": "python",
   "name": "python3"
  },
  "language_info": {
   "codemirror_mode": {
    "name": "ipython",
    "version": 3
   },
   "file_extension": ".py",
   "mimetype": "text/x-python",
   "name": "python",
   "nbconvert_exporter": "python",
   "pygments_lexer": "ipython3",
   "version": "3.8.5"
  }
 },
 "nbformat": 4,
 "nbformat_minor": 5
}
